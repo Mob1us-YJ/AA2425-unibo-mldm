{
 "cells": [
  {
   "cell_type": "markdown",
   "id": "1616ef4f",
   "metadata": {
    "colab_type": "text",
    "id": "view-in-github"
   },
   "source": [
    "<a href=\"https://colab.research.google.com/github/w4bo/AA2425-unibo-mldm/blob/master/slides/lab-03-datapreparation.ipynb\" target=\"_parent\"><img src=\"https://colab.research.google.com/assets/colab-badge.svg\" alt=\"Open In Colab\"/></a>"
   ]
  },
  {
   "cell_type": "markdown",
   "id": "X8SbN8FhT5l-",
   "metadata": {
    "id": "X8SbN8FhT5l-"
   },
   "source": [
    "# Data Preparation"
   ]
  },
  {
   "cell_type": "code",
   "execution_count": 1,
   "id": "aacb3166",
   "metadata": {
    "colab": {
     "base_uri": "https://localhost:8080/",
     "height": 206
    },
    "execution": {
     "iopub.execute_input": "2024-10-08T14:38:38.883641Z",
     "iopub.status.busy": "2024-10-08T14:38:38.883641Z",
     "iopub.status.idle": "2024-10-08T14:38:40.228268Z",
     "shell.execute_reply": "2024-10-08T14:38:40.228268Z"
    },
    "id": "aacb3166",
    "outputId": "6d82288e-1a47-4674-a7d3-6500cf9f04d1"
   },
   "outputs": [
    {
     "data": {
      "text/html": [
       "<div>\n",
       "<style scoped>\n",
       "    .dataframe tbody tr th:only-of-type {\n",
       "        vertical-align: middle;\n",
       "    }\n",
       "\n",
       "    .dataframe tbody tr th {\n",
       "        vertical-align: top;\n",
       "    }\n",
       "\n",
       "    .dataframe thead th {\n",
       "        text-align: right;\n",
       "    }\n",
       "</style>\n",
       "<table border=\"1\" class=\"dataframe\">\n",
       "  <thead>\n",
       "    <tr style=\"text-align: right;\">\n",
       "      <th></th>\n",
       "      <th>ID</th>\n",
       "      <th>PriceBin</th>\n",
       "      <th>Date</th>\n",
       "      <th>Quantity</th>\n",
       "      <th>Review</th>\n",
       "    </tr>\n",
       "  </thead>\n",
       "  <tbody>\n",
       "    <tr>\n",
       "      <th>0</th>\n",
       "      <td>100</td>\n",
       "      <td>low</td>\n",
       "      <td>05/07/2021</td>\n",
       "      <td>10.0</td>\n",
       "      <td>2</td>\n",
       "    </tr>\n",
       "    <tr>\n",
       "      <th>1</th>\n",
       "      <td>101</td>\n",
       "      <td>medium</td>\n",
       "      <td>05/07/2021</td>\n",
       "      <td>25.0</td>\n",
       "      <td>1</td>\n",
       "    </tr>\n",
       "    <tr>\n",
       "      <th>2</th>\n",
       "      <td>102</td>\n",
       "      <td>high</td>\n",
       "      <td>06/07/2021</td>\n",
       "      <td>100.0</td>\n",
       "      <td>3</td>\n",
       "    </tr>\n",
       "    <tr>\n",
       "      <th>3</th>\n",
       "      <td>103</td>\n",
       "      <td>high</td>\n",
       "      <td>06/07/2021</td>\n",
       "      <td>NaN</td>\n",
       "      <td>4</td>\n",
       "    </tr>\n",
       "    <tr>\n",
       "      <th>4</th>\n",
       "      <td>104</td>\n",
       "      <td>medium</td>\n",
       "      <td>06/07/2021</td>\n",
       "      <td>25.0</td>\n",
       "      <td>5</td>\n",
       "    </tr>\n",
       "  </tbody>\n",
       "</table>\n",
       "</div>"
      ],
      "text/plain": [
       "    ID PriceBin        Date  Quantity  Review\n",
       "0  100      low  05/07/2021      10.0       2\n",
       "1  101   medium  05/07/2021      25.0       1\n",
       "2  102     high  06/07/2021     100.0       3\n",
       "3  103     high  06/07/2021       NaN       4\n",
       "4  104   medium  06/07/2021      25.0       5"
      ]
     },
     "execution_count": 1,
     "metadata": {},
     "output_type": "execute_result"
    }
   ],
   "source": [
    "import pandas as pd\n",
    "import numpy as np  # fast operations on arrays\n",
    "import seaborn as sns  # plots\n",
    "import matplotlib.pyplot as plt  # plots\n",
    "\n",
    "df = pd.DataFrame([\n",
    "    [100,   'low',    '05/07/2021', 10, 2],\n",
    "    [101,  'medium', '05/07/2021', 25, 1],\n",
    "    [102,   'high',   '06/07/2021', 100, 3],\n",
    "    [103, 'high',   '06/07/2021', np.nan, 4],\n",
    "    [104,  'medium', '06/07/2021', 25, 5]], columns=['ID', 'PriceBin', 'Date', 'Quantity', 'Review'])\n",
    "df"
   ]
  },
  {
   "cell_type": "markdown",
   "id": "3602edb7",
   "metadata": {
    "id": "3602edb7"
   },
   "source": [
    "# What transformations can we apply?\n",
    "\n",
    "- **Encoding**: transforming categorical attributes into continuous ones\n",
    "- **Discretization**: transforming continuous attributes into categorical ones\n",
    "- **Normalization**: normalizing continuous attributes such that their values fall in the same range\n",
    "- **Imputation**: imputing missing values\n",
    "- **Rebalancing**: adjusting the class distribution of a dataset (i.e., the ratio between the different classes/categories represented)\n",
    "- **Feature Engineering**: defining the set of relevant attributes (variables, predictors) to be used in model construction"
   ]
  },
  {
   "cell_type": "markdown",
   "id": "6e3c0fec",
   "metadata": {
    "id": "6e3c0fec"
   },
   "source": [
    "# Data distribution"
   ]
  },
  {
   "cell_type": "code",
   "execution_count": 2,
   "id": "bff9fa20",
   "metadata": {
    "colab": {
     "base_uri": "https://localhost:8080/"
    },
    "execution": {
     "iopub.execute_input": "2024-10-08T14:38:40.230273Z",
     "iopub.status.busy": "2024-10-08T14:38:40.230273Z",
     "iopub.status.idle": "2024-10-08T14:38:40.233699Z",
     "shell.execute_reply": "2024-10-08T14:38:40.233699Z"
    },
    "id": "bff9fa20",
    "outputId": "739c6259-428c-4018-b542-419bf9733f1a"
   },
   "outputs": [
    {
     "data": {
      "text/plain": [
       "array([ 10.,  25., 100.,  nan])"
      ]
     },
     "execution_count": 2,
     "metadata": {},
     "output_type": "execute_result"
    }
   ],
   "source": [
    "# array with distinct values sorted by first appearance\n",
    "df[\"Quantity\"].unique()"
   ]
  },
  {
   "cell_type": "code",
   "execution_count": 3,
   "id": "3041345b",
   "metadata": {
    "colab": {
     "base_uri": "https://localhost:8080/"
    },
    "execution": {
     "iopub.execute_input": "2024-10-08T14:38:40.235703Z",
     "iopub.status.busy": "2024-10-08T14:38:40.234703Z",
     "iopub.status.idle": "2024-10-08T14:38:40.238022Z",
     "shell.execute_reply": "2024-10-08T14:38:40.238022Z"
    },
    "id": "3041345b",
    "outputId": "03cf3d32-e761-42ab-c44e-0bee001b1a10"
   },
   "outputs": [
    {
     "data": {
      "text/plain": [
       "3"
      ]
     },
     "execution_count": 3,
     "metadata": {},
     "output_type": "execute_result"
    }
   ],
   "source": [
    "# quantity of unique values\n",
    "df[\"Quantity\"].nunique()"
   ]
  },
  {
   "cell_type": "markdown",
   "id": "4a957460",
   "metadata": {},
   "source": [
    "# Data distribution"
   ]
  },
  {
   "cell_type": "code",
   "execution_count": 4,
   "id": "5f596a69",
   "metadata": {
    "colab": {
     "base_uri": "https://localhost:8080/",
     "height": 210
    },
    "execution": {
     "iopub.execute_input": "2024-10-08T14:38:40.239037Z",
     "iopub.status.busy": "2024-10-08T14:38:40.239037Z",
     "iopub.status.idle": "2024-10-08T14:38:40.243023Z",
     "shell.execute_reply": "2024-10-08T14:38:40.243023Z"
    },
    "id": "5f596a69",
    "outputId": "47be88b8-164b-4a18-b43f-f20d27568ad1"
   },
   "outputs": [
    {
     "data": {
      "text/plain": [
       "Quantity\n",
       "25.0     2\n",
       "10.0     1\n",
       "100.0    1\n",
       "Name: count, dtype: int64"
      ]
     },
     "execution_count": 4,
     "metadata": {},
     "output_type": "execute_result"
    }
   ],
   "source": [
    "# return a new series that associates each value with its number of occurrences, sorted by frequency\n",
    "df[\"Quantity\"].value_counts()"
   ]
  },
  {
   "cell_type": "code",
   "execution_count": 5,
   "id": "a1d99dac",
   "metadata": {
    "colab": {
     "base_uri": "https://localhost:8080/",
     "height": 448
    },
    "execution": {
     "iopub.execute_input": "2024-10-08T14:38:40.244034Z",
     "iopub.status.busy": "2024-10-08T14:38:40.244034Z",
     "iopub.status.idle": "2024-10-08T14:38:40.327720Z",
     "shell.execute_reply": "2024-10-08T14:38:40.327720Z"
    },
    "id": "a1d99dac",
    "outputId": "a643086a-bec0-4717-c801-2d6132f09508"
   },
   "outputs": [
    {
     "data": {
      "text/plain": [
       "<Axes: >"
      ]
     },
     "execution_count": 5,
     "metadata": {},
     "output_type": "execute_result"
    },
    {
     "data": {
      "image/png": "[encoded data removed]",
      "text/plain": [
       "<Figure size 400x300 with 1 Axes>"
      ]
     },
     "metadata": {},
     "output_type": "display_data"
    }
   ],
   "source": [
    "plt.figure(figsize=(4, 3))\n",
    "df[\"Quantity\"].hist(bins=10)"
   ]
  },
  {
   "cell_type": "markdown",
   "id": "5f608753",
   "metadata": {
    "id": "5f608753"
   },
   "source": [
    "# Missing values\n",
    "\n",
    "Datasets often show missing values\n",
    "\n",
    "- E.g., they are not applicable (e.g., date of death) or unknown\n",
    "- A series can have missing values, referred to as `NA` (Not Available)\n",
    "- Numeric attributes: `NA` is `np.nan` (Not a Number)\n",
    "- `nan` is never equal, greater, or lower than other values (nor itself)\n",
    "\n",
    "        np.nan == np.nan\n",
    "        False\n",
    "- Numeric expressions with `nan` return `nan`\n",
    "\n",
    "        2 * np.nan – 1\n",
    "        nan\n"
   ]
  },
  {
   "cell_type": "code",
   "execution_count": 6,
   "id": "5c2f6e66",
   "metadata": {
    "colab": {
     "base_uri": "https://localhost:8080/",
     "height": 206
    },
    "execution": {
     "iopub.execute_input": "2024-10-08T14:38:40.329726Z",
     "iopub.status.busy": "2024-10-08T14:38:40.329726Z",
     "iopub.status.idle": "2024-10-08T14:38:40.335584Z",
     "shell.execute_reply": "2024-10-08T14:38:40.335584Z"
    },
    "id": "5c2f6e66",
    "outputId": "5fd6a227-7a4c-4123-c162-0944d0687b0d"
   },
   "outputs": [
    {
     "data": {
      "text/html": [
       "<div>\n",
       "<style scoped>\n",
       "    .dataframe tbody tr th:only-of-type {\n",
       "        vertical-align: middle;\n",
       "    }\n",
       "\n",
       "    .dataframe tbody tr th {\n",
       "        vertical-align: top;\n",
       "    }\n",
       "\n",
       "    .dataframe thead th {\n",
       "        text-align: right;\n",
       "    }\n",
       "</style>\n",
       "<table border=\"1\" class=\"dataframe\">\n",
       "  <thead>\n",
       "    <tr style=\"text-align: right;\">\n",
       "      <th></th>\n",
       "      <th>Quantity</th>\n",
       "      <th>isna</th>\n",
       "      <th>notna</th>\n",
       "    </tr>\n",
       "  </thead>\n",
       "  <tbody>\n",
       "    <tr>\n",
       "      <th>0</th>\n",
       "      <td>10.0</td>\n",
       "      <td>False</td>\n",
       "      <td>True</td>\n",
       "    </tr>\n",
       "    <tr>\n",
       "      <th>1</th>\n",
       "      <td>25.0</td>\n",
       "      <td>False</td>\n",
       "      <td>True</td>\n",
       "    </tr>\n",
       "    <tr>\n",
       "      <th>2</th>\n",
       "      <td>100.0</td>\n",
       "      <td>False</td>\n",
       "      <td>True</td>\n",
       "    </tr>\n",
       "    <tr>\n",
       "      <th>3</th>\n",
       "      <td>NaN</td>\n",
       "      <td>True</td>\n",
       "      <td>False</td>\n",
       "    </tr>\n",
       "    <tr>\n",
       "      <th>4</th>\n",
       "      <td>25.0</td>\n",
       "      <td>False</td>\n",
       "      <td>True</td>\n",
       "    </tr>\n",
       "  </tbody>\n",
       "</table>\n",
       "</div>"
      ],
      "text/plain": [
       "   Quantity   isna  notna\n",
       "0      10.0  False   True\n",
       "1      25.0  False   True\n",
       "2     100.0  False   True\n",
       "3       NaN   True  False\n",
       "4      25.0  False   True"
      ]
     },
     "execution_count": 6,
     "metadata": {},
     "output_type": "execute_result"
    }
   ],
   "source": [
    "# add the column \"isna\", True if the value is NaN\n",
    "df[\"isna\"] = df[\"Quantity\"].isna()\n",
    "# add the column \"notna\", False if the value is NaN\n",
    "df[\"notna\"] = df[\"Quantity\"].notna()\n",
    "df[[\"Quantity\", \"isna\", \"notna\"]]"
   ]
  },
  {
   "cell_type": "markdown",
   "id": "0a1dd6bd",
   "metadata": {
    "id": "0a1dd6bd"
   },
   "source": [
    "# Imputing missing values\n",
    "\n",
    "Several strategies\n",
    "\n",
    "- Replace `nan` with average or median values\n",
    "- Dropping rows/columns with nans\n",
    "- Backward/forward fill\n",
    "\n",
    "Questions:\n",
    "\n",
    "- What are the effects of imputation?\n",
    "- What if we have temporal attributes?"
   ]
  },
  {
   "cell_type": "markdown",
   "id": "353b363c",
   "metadata": {},
   "source": [
    "## Filling the values"
   ]
  },
  {
   "cell_type": "code",
   "execution_count": 7,
   "id": "fba624ad",
   "metadata": {
    "colab": {
     "base_uri": "https://localhost:8080/",
     "height": 206
    },
    "execution": {
     "iopub.execute_input": "2024-10-08T14:38:40.337595Z",
     "iopub.status.busy": "2024-10-08T14:38:40.337595Z",
     "iopub.status.idle": "2024-10-08T14:38:40.344768Z",
     "shell.execute_reply": "2024-10-08T14:38:40.344768Z"
    },
    "id": "fba624ad",
    "outputId": "e7cfe545-497f-4381-9411-152012c46700"
   },
   "outputs": [
    {
     "data": {
      "text/html": [
       "<div>\n",
       "<style scoped>\n",
       "    .dataframe tbody tr th:only-of-type {\n",
       "        vertical-align: middle;\n",
       "    }\n",
       "\n",
       "    .dataframe tbody tr th {\n",
       "        vertical-align: top;\n",
       "    }\n",
       "\n",
       "    .dataframe thead th {\n",
       "        text-align: right;\n",
       "    }\n",
       "</style>\n",
       "<table border=\"1\" class=\"dataframe\">\n",
       "  <thead>\n",
       "    <tr style=\"text-align: right;\">\n",
       "      <th></th>\n",
       "      <th>Quantity</th>\n",
       "      <th>Quantity_mean</th>\n",
       "      <th>Quantity_ffill</th>\n",
       "      <th>Quantity_bfill</th>\n",
       "    </tr>\n",
       "  </thead>\n",
       "  <tbody>\n",
       "    <tr>\n",
       "      <th>0</th>\n",
       "      <td>10.0</td>\n",
       "      <td>10.0</td>\n",
       "      <td>10.0</td>\n",
       "      <td>10.0</td>\n",
       "    </tr>\n",
       "    <tr>\n",
       "      <th>1</th>\n",
       "      <td>25.0</td>\n",
       "      <td>25.0</td>\n",
       "      <td>25.0</td>\n",
       "      <td>25.0</td>\n",
       "    </tr>\n",
       "    <tr>\n",
       "      <th>2</th>\n",
       "      <td>100.0</td>\n",
       "      <td>100.0</td>\n",
       "      <td>100.0</td>\n",
       "      <td>100.0</td>\n",
       "    </tr>\n",
       "    <tr>\n",
       "      <th>3</th>\n",
       "      <td>NaN</td>\n",
       "      <td>40.0</td>\n",
       "      <td>100.0</td>\n",
       "      <td>25.0</td>\n",
       "    </tr>\n",
       "    <tr>\n",
       "      <th>4</th>\n",
       "      <td>25.0</td>\n",
       "      <td>25.0</td>\n",
       "      <td>25.0</td>\n",
       "      <td>25.0</td>\n",
       "    </tr>\n",
       "  </tbody>\n",
       "</table>\n",
       "</div>"
      ],
      "text/plain": [
       "   Quantity  Quantity_mean  Quantity_ffill  Quantity_bfill\n",
       "0      10.0           10.0            10.0            10.0\n",
       "1      25.0           25.0            25.0            25.0\n",
       "2     100.0          100.0           100.0           100.0\n",
       "3       NaN           40.0           100.0            25.0\n",
       "4      25.0           25.0            25.0            25.0"
      ]
     },
     "execution_count": 7,
     "metadata": {},
     "output_type": "execute_result"
    }
   ],
   "source": [
    "df[\"Quantity_mean\"] = df[\"Quantity\"].fillna(df[\"Quantity\"].mean())  # fill the missing value with the average\n",
    "df[\"Quantity_ffill\"] = df[\"Quantity\"].ffill()  # fill the missing value with the previous (not NaN) value\n",
    "df[\"Quantity_bfill\"] = df[\"Quantity\"].bfill()  # fill the missing value with the following (not NaN) value\n",
    "imputed_df = df[[x for x in df.columns if \"Quantity\" in x]]\n",
    "imputed_df"
   ]
  },
  {
   "cell_type": "code",
   "execution_count": 8,
   "id": "a854694e",
   "metadata": {},
   "outputs": [
    {
     "data": {
      "text/html": [
       "<div>\n",
       "<style scoped>\n",
       "    .dataframe tbody tr th:only-of-type {\n",
       "        vertical-align: middle;\n",
       "    }\n",
       "\n",
       "    .dataframe tbody tr th {\n",
       "        vertical-align: top;\n",
       "    }\n",
       "\n",
       "    .dataframe thead th {\n",
       "        text-align: right;\n",
       "    }\n",
       "</style>\n",
       "<table border=\"1\" class=\"dataframe\">\n",
       "  <thead>\n",
       "    <tr style=\"text-align: right;\">\n",
       "      <th></th>\n",
       "      <th>Quantity</th>\n",
       "      <th>Quantity_mean</th>\n",
       "      <th>Quantity_ffill</th>\n",
       "      <th>Quantity_bfill</th>\n",
       "    </tr>\n",
       "  </thead>\n",
       "  <tbody>\n",
       "    <tr>\n",
       "      <th>count</th>\n",
       "      <td>4.000000</td>\n",
       "      <td>5.000000</td>\n",
       "      <td>5.000000</td>\n",
       "      <td>5.000000</td>\n",
       "    </tr>\n",
       "    <tr>\n",
       "      <th>mean</th>\n",
       "      <td>40.000000</td>\n",
       "      <td>40.000000</td>\n",
       "      <td>52.000000</td>\n",
       "      <td>37.000000</td>\n",
       "    </tr>\n",
       "    <tr>\n",
       "      <th>std</th>\n",
       "      <td>40.620192</td>\n",
       "      <td>35.178118</td>\n",
       "      <td>44.243644</td>\n",
       "      <td>35.812009</td>\n",
       "    </tr>\n",
       "    <tr>\n",
       "      <th>min</th>\n",
       "      <td>10.000000</td>\n",
       "      <td>10.000000</td>\n",
       "      <td>10.000000</td>\n",
       "      <td>10.000000</td>\n",
       "    </tr>\n",
       "    <tr>\n",
       "      <th>25%</th>\n",
       "      <td>21.250000</td>\n",
       "      <td>25.000000</td>\n",
       "      <td>25.000000</td>\n",
       "      <td>25.000000</td>\n",
       "    </tr>\n",
       "    <tr>\n",
       "      <th>50%</th>\n",
       "      <td>25.000000</td>\n",
       "      <td>25.000000</td>\n",
       "      <td>25.000000</td>\n",
       "      <td>25.000000</td>\n",
       "    </tr>\n",
       "    <tr>\n",
       "      <th>75%</th>\n",
       "      <td>43.750000</td>\n",
       "      <td>40.000000</td>\n",
       "      <td>100.000000</td>\n",
       "      <td>25.000000</td>\n",
       "    </tr>\n",
       "    <tr>\n",
       "      <th>max</th>\n",
       "      <td>100.000000</td>\n",
       "      <td>100.000000</td>\n",
       "      <td>100.000000</td>\n",
       "      <td>100.000000</td>\n",
       "    </tr>\n",
       "  </tbody>\n",
       "</table>\n",
       "</div>"
      ],
      "text/plain": [
       "         Quantity  Quantity_mean  Quantity_ffill  Quantity_bfill\n",
       "count    4.000000       5.000000        5.000000        5.000000\n",
       "mean    40.000000      40.000000       52.000000       37.000000\n",
       "std     40.620192      35.178118       44.243644       35.812009\n",
       "min     10.000000      10.000000       10.000000       10.000000\n",
       "25%     21.250000      25.000000       25.000000       25.000000\n",
       "50%     25.000000      25.000000       25.000000       25.000000\n",
       "75%     43.750000      40.000000      100.000000       25.000000\n",
       "max    100.000000     100.000000      100.000000      100.000000"
      ]
     },
     "execution_count": 8,
     "metadata": {},
     "output_type": "execute_result"
    }
   ],
   "source": [
    "imputed_df.describe()"
   ]
  },
  {
   "cell_type": "markdown",
   "id": "1408acad",
   "metadata": {},
   "source": [
    "# What happens to data distribution?\n",
    "\n",
    "- Create a dataframe with 1000 sales, and randomly set 5% of them to `NaN`\n",
    "- Then, impute them "
   ]
  },
  {
   "cell_type": "code",
   "execution_count": 9,
   "id": "ffd7a817",
   "metadata": {},
   "outputs": [
    {
     "data": {
      "image/png": "[encoded data removed]",
      "text/plain": [
       "<Figure size 1200x300 with 4 Axes>"
      ]
     },
     "metadata": {},
     "output_type": "display_data"
    },
    {
     "data": {
      "image/png": "[encoded data removed]",
      "text/plain": [
       "<Figure size 1200x300 with 4 Axes>"
      ]
     },
     "metadata": {},
     "output_type": "display_data"
    }
   ],
   "source": [
    "#| echo: false\n",
    "\n",
    "for bins in [100, 20]:\n",
    "    np.random.seed(42)  # for reproducibility\n",
    "    sales_data = np.random.exponential(scale=2, size=1000)  # exponential data for left skewness\n",
    "    imputed_df = pd.DataFrame({'Quantity': sales_data})  # create the dataframe\n",
    "    nan_indices = np.random.choice(imputed_df.index, size=int(0.05 * len(imputed_df)), replace=False)  # set 5% of quantities to NaN\n",
    "    imputed_df.loc[nan_indices, 'Quantity'] = np.nan\n",
    "    imputed_df['Quantity_mean'] = imputed_df['Quantity'].fillna(imputed_df['Quantity'].mean())  # mean imputation\n",
    "    imputed_df['Quantity_ffill'] = imputed_df['Quantity'].bfill()  # bfill imputation\n",
    "    imputed_df['Quantity_bfill'] = imputed_df['Quantity'].ffill()  # ffill imputation\n",
    "    fig, axs = plt.subplots(1, 4, figsize=(12, 3), sharex=True, sharey=True)  # plot histograms for original and imputed data\n",
    "    for i, (title, color) in enumerate([('Quantity', 'blue'), ('Quantity_mean', 'green'), ('Quantity_ffill', 'orange'), ('Quantity_bfill', 'red')]):\n",
    "        axs[i].set_title(title)\n",
    "        axs[i].hist(imputed_df[title], bins=bins, color=color, alpha=0.7)\n",
    "        axs[i].grid()\n",
    "    fig.suptitle(f\"Use {bins} equi-width bins to plot the histogram\")\n",
    "    fig.tight_layout()\n",
    "    fig.savefig(f\"./img/datapreprocessing/imputation_{bins}.svg\")"
   ]
  },
  {
   "cell_type": "markdown",
   "id": "441a42c5",
   "metadata": {},
   "source": [
    "## Dropping values"
   ]
  },
  {
   "cell_type": "code",
   "execution_count": 10,
   "id": "1aebd691",
   "metadata": {
    "colab": {
     "base_uri": "https://localhost:8080/",
     "height": 210
    },
    "execution": {
     "iopub.execute_input": "2024-10-08T14:38:40.598141Z",
     "iopub.status.busy": "2024-10-08T14:38:40.598141Z",
     "iopub.status.idle": "2024-10-08T14:38:40.605375Z",
     "shell.execute_reply": "2024-10-08T14:38:40.605375Z"
    },
    "id": "1aebd691",
    "outputId": "2b43d7bb-c729-4a90-bff0-0c5e5c142cb7",
    "scrolled": true
   },
   "outputs": [
    {
     "data": {
      "text/html": [
       "<div>\n",
       "<style scoped>\n",
       "    .dataframe tbody tr th:only-of-type {\n",
       "        vertical-align: middle;\n",
       "    }\n",
       "\n",
       "    .dataframe tbody tr th {\n",
       "        vertical-align: top;\n",
       "    }\n",
       "\n",
       "    .dataframe thead th {\n",
       "        text-align: right;\n",
       "    }\n",
       "</style>\n",
       "<table border=\"1\" class=\"dataframe\">\n",
       "  <thead>\n",
       "    <tr style=\"text-align: right;\">\n",
       "      <th></th>\n",
       "      <th>ID</th>\n",
       "      <th>PriceBin</th>\n",
       "      <th>Date</th>\n",
       "      <th>Review</th>\n",
       "      <th>isna</th>\n",
       "      <th>notna</th>\n",
       "      <th>Quantity_mean</th>\n",
       "      <th>Quantity_ffill</th>\n",
       "      <th>Quantity_bfill</th>\n",
       "    </tr>\n",
       "  </thead>\n",
       "  <tbody>\n",
       "    <tr>\n",
       "      <th>0</th>\n",
       "      <td>100</td>\n",
       "      <td>low</td>\n",
       "      <td>05/07/2021</td>\n",
       "      <td>2</td>\n",
       "      <td>False</td>\n",
       "      <td>True</td>\n",
       "      <td>10.0</td>\n",
       "      <td>10.0</td>\n",
       "      <td>10.0</td>\n",
       "    </tr>\n",
       "    <tr>\n",
       "      <th>1</th>\n",
       "      <td>101</td>\n",
       "      <td>medium</td>\n",
       "      <td>05/07/2021</td>\n",
       "      <td>1</td>\n",
       "      <td>False</td>\n",
       "      <td>True</td>\n",
       "      <td>25.0</td>\n",
       "      <td>25.0</td>\n",
       "      <td>25.0</td>\n",
       "    </tr>\n",
       "    <tr>\n",
       "      <th>2</th>\n",
       "      <td>102</td>\n",
       "      <td>high</td>\n",
       "      <td>06/07/2021</td>\n",
       "      <td>3</td>\n",
       "      <td>False</td>\n",
       "      <td>True</td>\n",
       "      <td>100.0</td>\n",
       "      <td>100.0</td>\n",
       "      <td>100.0</td>\n",
       "    </tr>\n",
       "    <tr>\n",
       "      <th>3</th>\n",
       "      <td>103</td>\n",
       "      <td>high</td>\n",
       "      <td>06/07/2021</td>\n",
       "      <td>4</td>\n",
       "      <td>True</td>\n",
       "      <td>False</td>\n",
       "      <td>40.0</td>\n",
       "      <td>100.0</td>\n",
       "      <td>25.0</td>\n",
       "    </tr>\n",
       "    <tr>\n",
       "      <th>4</th>\n",
       "      <td>104</td>\n",
       "      <td>medium</td>\n",
       "      <td>06/07/2021</td>\n",
       "      <td>5</td>\n",
       "      <td>False</td>\n",
       "      <td>True</td>\n",
       "      <td>25.0</td>\n",
       "      <td>25.0</td>\n",
       "      <td>25.0</td>\n",
       "    </tr>\n",
       "  </tbody>\n",
       "</table>\n",
       "</div>"
      ],
      "text/plain": [
       "    ID PriceBin        Date  Review   isna  notna  Quantity_mean  \\\n",
       "0  100      low  05/07/2021       2  False   True           10.0   \n",
       "1  101   medium  05/07/2021       1  False   True           25.0   \n",
       "2  102     high  06/07/2021       3  False   True          100.0   \n",
       "3  103     high  06/07/2021       4   True  False           40.0   \n",
       "4  104   medium  06/07/2021       5  False   True           25.0   \n",
       "\n",
       "   Quantity_ffill  Quantity_bfill  \n",
       "0            10.0            10.0  \n",
       "1            25.0            25.0  \n",
       "2           100.0           100.0  \n",
       "3           100.0            25.0  \n",
       "4            25.0            25.0  "
      ]
     },
     "execution_count": 10,
     "metadata": {},
     "output_type": "execute_result"
    }
   ],
   "source": [
    "df.drop(columns=[\"Quantity\"])  # drop the `Quantity` column"
   ]
  },
  {
   "cell_type": "code",
   "execution_count": 11,
   "id": "3ba31db2",
   "metadata": {
    "colab": {
     "base_uri": "https://localhost:8080/",
     "height": 175
    },
    "execution": {
     "iopub.execute_input": "2024-10-08T14:38:40.607381Z",
     "iopub.status.busy": "2024-10-08T14:38:40.607381Z",
     "iopub.status.idle": "2024-10-08T14:38:40.615739Z",
     "shell.execute_reply": "2024-10-08T14:38:40.615739Z"
    },
    "id": "3ba31db2",
    "outputId": "7960fed3-8e65-462c-edbc-4dcb782a807b"
   },
   "outputs": [
    {
     "data": {
      "text/html": [
       "<div>\n",
       "<style scoped>\n",
       "    .dataframe tbody tr th:only-of-type {\n",
       "        vertical-align: middle;\n",
       "    }\n",
       "\n",
       "    .dataframe tbody tr th {\n",
       "        vertical-align: top;\n",
       "    }\n",
       "\n",
       "    .dataframe thead th {\n",
       "        text-align: right;\n",
       "    }\n",
       "</style>\n",
       "<table border=\"1\" class=\"dataframe\">\n",
       "  <thead>\n",
       "    <tr style=\"text-align: right;\">\n",
       "      <th></th>\n",
       "      <th>ID</th>\n",
       "      <th>PriceBin</th>\n",
       "      <th>Date</th>\n",
       "      <th>Quantity</th>\n",
       "      <th>Review</th>\n",
       "      <th>isna</th>\n",
       "      <th>notna</th>\n",
       "      <th>Quantity_mean</th>\n",
       "      <th>Quantity_ffill</th>\n",
       "      <th>Quantity_bfill</th>\n",
       "    </tr>\n",
       "  </thead>\n",
       "  <tbody>\n",
       "    <tr>\n",
       "      <th>0</th>\n",
       "      <td>100</td>\n",
       "      <td>low</td>\n",
       "      <td>05/07/2021</td>\n",
       "      <td>10.0</td>\n",
       "      <td>2</td>\n",
       "      <td>False</td>\n",
       "      <td>True</td>\n",
       "      <td>10.0</td>\n",
       "      <td>10.0</td>\n",
       "      <td>10.0</td>\n",
       "    </tr>\n",
       "    <tr>\n",
       "      <th>1</th>\n",
       "      <td>101</td>\n",
       "      <td>medium</td>\n",
       "      <td>05/07/2021</td>\n",
       "      <td>25.0</td>\n",
       "      <td>1</td>\n",
       "      <td>False</td>\n",
       "      <td>True</td>\n",
       "      <td>25.0</td>\n",
       "      <td>25.0</td>\n",
       "      <td>25.0</td>\n",
       "    </tr>\n",
       "    <tr>\n",
       "      <th>2</th>\n",
       "      <td>102</td>\n",
       "      <td>high</td>\n",
       "      <td>06/07/2021</td>\n",
       "      <td>100.0</td>\n",
       "      <td>3</td>\n",
       "      <td>False</td>\n",
       "      <td>True</td>\n",
       "      <td>100.0</td>\n",
       "      <td>100.0</td>\n",
       "      <td>100.0</td>\n",
       "    </tr>\n",
       "    <tr>\n",
       "      <th>4</th>\n",
       "      <td>104</td>\n",
       "      <td>medium</td>\n",
       "      <td>06/07/2021</td>\n",
       "      <td>25.0</td>\n",
       "      <td>5</td>\n",
       "      <td>False</td>\n",
       "      <td>True</td>\n",
       "      <td>25.0</td>\n",
       "      <td>25.0</td>\n",
       "      <td>25.0</td>\n",
       "    </tr>\n",
       "  </tbody>\n",
       "</table>\n",
       "</div>"
      ],
      "text/plain": [
       "    ID PriceBin        Date  Quantity  Review   isna  notna  Quantity_mean  \\\n",
       "0  100      low  05/07/2021      10.0       2  False   True           10.0   \n",
       "1  101   medium  05/07/2021      25.0       1  False   True           25.0   \n",
       "2  102     high  06/07/2021     100.0       3  False   True          100.0   \n",
       "4  104   medium  06/07/2021      25.0       5  False   True           25.0   \n",
       "\n",
       "   Quantity_ffill  Quantity_bfill  \n",
       "0            10.0            10.0  \n",
       "1            25.0            25.0  \n",
       "2           100.0           100.0  \n",
       "4            25.0            25.0  "
      ]
     },
     "execution_count": 11,
     "metadata": {},
     "output_type": "execute_result"
    }
   ],
   "source": [
    "df.dropna()  # drop all rows with missing values in any column\n",
    "df.dropna(subset=[\"Quantity\"])  # drop all rows with missing values in the column `Quantity`"
   ]
  },
  {
   "cell_type": "markdown",
   "id": "5291f1ec",
   "metadata": {},
   "source": [
    "# Encoding: `PriceBin`"
   ]
  },
  {
   "cell_type": "code",
   "execution_count": 12,
   "id": "0e7fa165",
   "metadata": {
    "execution": {
     "iopub.execute_input": "2024-10-08T14:38:40.617746Z",
     "iopub.status.busy": "2024-10-08T14:38:40.617746Z",
     "iopub.status.idle": "2024-10-08T14:38:40.707160Z",
     "shell.execute_reply": "2024-10-08T14:38:40.707160Z"
    }
   },
   "outputs": [
    {
     "data": {
      "text/html": [
       "<div>\n",
       "<style scoped>\n",
       "    .dataframe tbody tr th:only-of-type {\n",
       "        vertical-align: middle;\n",
       "    }\n",
       "\n",
       "    .dataframe tbody tr th {\n",
       "        vertical-align: top;\n",
       "    }\n",
       "\n",
       "    .dataframe thead th {\n",
       "        text-align: right;\n",
       "    }\n",
       "</style>\n",
       "<table border=\"1\" class=\"dataframe\">\n",
       "  <thead>\n",
       "    <tr style=\"text-align: right;\">\n",
       "      <th></th>\n",
       "      <th>ID</th>\n",
       "      <th>PriceBin</th>\n",
       "      <th>Date</th>\n",
       "      <th>Quantity</th>\n",
       "      <th>Review</th>\n",
       "      <th>isna</th>\n",
       "      <th>notna</th>\n",
       "      <th>Quantity_mean</th>\n",
       "      <th>Quantity_ffill</th>\n",
       "      <th>Quantity_bfill</th>\n",
       "      <th>PriceBin_encoded</th>\n",
       "    </tr>\n",
       "  </thead>\n",
       "  <tbody>\n",
       "    <tr>\n",
       "      <th>0</th>\n",
       "      <td>100</td>\n",
       "      <td>low</td>\n",
       "      <td>05/07/2021</td>\n",
       "      <td>10.0</td>\n",
       "      <td>2</td>\n",
       "      <td>False</td>\n",
       "      <td>True</td>\n",
       "      <td>10.0</td>\n",
       "      <td>10.0</td>\n",
       "      <td>10.0</td>\n",
       "      <td>0.0</td>\n",
       "    </tr>\n",
       "    <tr>\n",
       "      <th>1</th>\n",
       "      <td>101</td>\n",
       "      <td>medium</td>\n",
       "      <td>05/07/2021</td>\n",
       "      <td>25.0</td>\n",
       "      <td>1</td>\n",
       "      <td>False</td>\n",
       "      <td>True</td>\n",
       "      <td>25.0</td>\n",
       "      <td>25.0</td>\n",
       "      <td>25.0</td>\n",
       "      <td>1.0</td>\n",
       "    </tr>\n",
       "    <tr>\n",
       "      <th>2</th>\n",
       "      <td>102</td>\n",
       "      <td>high</td>\n",
       "      <td>06/07/2021</td>\n",
       "      <td>100.0</td>\n",
       "      <td>3</td>\n",
       "      <td>False</td>\n",
       "      <td>True</td>\n",
       "      <td>100.0</td>\n",
       "      <td>100.0</td>\n",
       "      <td>100.0</td>\n",
       "      <td>2.0</td>\n",
       "    </tr>\n",
       "    <tr>\n",
       "      <th>3</th>\n",
       "      <td>103</td>\n",
       "      <td>high</td>\n",
       "      <td>06/07/2021</td>\n",
       "      <td>NaN</td>\n",
       "      <td>4</td>\n",
       "      <td>True</td>\n",
       "      <td>False</td>\n",
       "      <td>40.0</td>\n",
       "      <td>100.0</td>\n",
       "      <td>25.0</td>\n",
       "      <td>2.0</td>\n",
       "    </tr>\n",
       "    <tr>\n",
       "      <th>4</th>\n",
       "      <td>104</td>\n",
       "      <td>medium</td>\n",
       "      <td>06/07/2021</td>\n",
       "      <td>25.0</td>\n",
       "      <td>5</td>\n",
       "      <td>False</td>\n",
       "      <td>True</td>\n",
       "      <td>25.0</td>\n",
       "      <td>25.0</td>\n",
       "      <td>25.0</td>\n",
       "      <td>1.0</td>\n",
       "    </tr>\n",
       "  </tbody>\n",
       "</table>\n",
       "</div>"
      ],
      "text/plain": [
       "    ID PriceBin        Date  Quantity  Review   isna  notna  Quantity_mean  \\\n",
       "0  100      low  05/07/2021      10.0       2  False   True           10.0   \n",
       "1  101   medium  05/07/2021      25.0       1  False   True           25.0   \n",
       "2  102     high  06/07/2021     100.0       3  False   True          100.0   \n",
       "3  103     high  06/07/2021       NaN       4   True  False           40.0   \n",
       "4  104   medium  06/07/2021      25.0       5  False   True           25.0   \n",
       "\n",
       "   Quantity_ffill  Quantity_bfill  PriceBin_encoded  \n",
       "0            10.0            10.0               0.0  \n",
       "1            25.0            25.0               1.0  \n",
       "2           100.0           100.0               2.0  \n",
       "3           100.0            25.0               2.0  \n",
       "4            25.0            25.0               1.0  "
      ]
     },
     "execution_count": 12,
     "metadata": {},
     "output_type": "execute_result"
    }
   ],
   "source": [
    "from sklearn.preprocessing import OrdinalEncoder\n",
    "\n",
    "encoder = OrdinalEncoder(categories=[['low', 'medium', 'high']])  # Apply Ordinal Encoding to `PriceBin``, define the order of the categories\n",
    "df['PriceBin_encoded'] = encoder.fit_transform(df[['PriceBin']])\n",
    "df"
   ]
  },
  {
   "cell_type": "markdown",
   "id": "64268504",
   "metadata": {},
   "source": [
    "What about dates?"
   ]
  },
  {
   "cell_type": "markdown",
   "id": "b79ea223",
   "metadata": {},
   "source": [
    "# Encoding: `Date`"
   ]
  },
  {
   "cell_type": "code",
   "execution_count": 13,
   "id": "4c87578a",
   "metadata": {
    "execution": {
     "iopub.execute_input": "2024-10-08T14:38:40.709168Z",
     "iopub.status.busy": "2024-10-08T14:38:40.709168Z",
     "iopub.status.idle": "2024-10-08T14:38:40.717770Z",
     "shell.execute_reply": "2024-10-08T14:38:40.717770Z"
    }
   },
   "outputs": [
    {
     "data": {
      "text/html": [
       "<div>\n",
       "<style scoped>\n",
       "    .dataframe tbody tr th:only-of-type {\n",
       "        vertical-align: middle;\n",
       "    }\n",
       "\n",
       "    .dataframe tbody tr th {\n",
       "        vertical-align: top;\n",
       "    }\n",
       "\n",
       "    .dataframe thead th {\n",
       "        text-align: right;\n",
       "    }\n",
       "</style>\n",
       "<table border=\"1\" class=\"dataframe\">\n",
       "  <thead>\n",
       "    <tr style=\"text-align: right;\">\n",
       "      <th></th>\n",
       "      <th>ID</th>\n",
       "      <th>PriceBin</th>\n",
       "      <th>Date</th>\n",
       "      <th>Quantity</th>\n",
       "      <th>Review</th>\n",
       "      <th>isna</th>\n",
       "      <th>notna</th>\n",
       "      <th>Quantity_mean</th>\n",
       "      <th>Quantity_ffill</th>\n",
       "      <th>Quantity_bfill</th>\n",
       "      <th>PriceBin_encoded</th>\n",
       "      <th>Date_unix</th>\n",
       "    </tr>\n",
       "  </thead>\n",
       "  <tbody>\n",
       "    <tr>\n",
       "      <th>0</th>\n",
       "      <td>100</td>\n",
       "      <td>low</td>\n",
       "      <td>2021-05-07</td>\n",
       "      <td>10.0</td>\n",
       "      <td>2</td>\n",
       "      <td>False</td>\n",
       "      <td>True</td>\n",
       "      <td>10.0</td>\n",
       "      <td>10.0</td>\n",
       "      <td>10.0</td>\n",
       "      <td>0.0</td>\n",
       "      <td>1620345600</td>\n",
       "    </tr>\n",
       "    <tr>\n",
       "      <th>1</th>\n",
       "      <td>101</td>\n",
       "      <td>medium</td>\n",
       "      <td>2021-05-07</td>\n",
       "      <td>25.0</td>\n",
       "      <td>1</td>\n",
       "      <td>False</td>\n",
       "      <td>True</td>\n",
       "      <td>25.0</td>\n",
       "      <td>25.0</td>\n",
       "      <td>25.0</td>\n",
       "      <td>1.0</td>\n",
       "      <td>1620345600</td>\n",
       "    </tr>\n",
       "    <tr>\n",
       "      <th>2</th>\n",
       "      <td>102</td>\n",
       "      <td>high</td>\n",
       "      <td>2021-06-07</td>\n",
       "      <td>100.0</td>\n",
       "      <td>3</td>\n",
       "      <td>False</td>\n",
       "      <td>True</td>\n",
       "      <td>100.0</td>\n",
       "      <td>100.0</td>\n",
       "      <td>100.0</td>\n",
       "      <td>2.0</td>\n",
       "      <td>1623024000</td>\n",
       "    </tr>\n",
       "    <tr>\n",
       "      <th>3</th>\n",
       "      <td>103</td>\n",
       "      <td>high</td>\n",
       "      <td>2021-06-07</td>\n",
       "      <td>NaN</td>\n",
       "      <td>4</td>\n",
       "      <td>True</td>\n",
       "      <td>False</td>\n",
       "      <td>40.0</td>\n",
       "      <td>100.0</td>\n",
       "      <td>25.0</td>\n",
       "      <td>2.0</td>\n",
       "      <td>1623024000</td>\n",
       "    </tr>\n",
       "    <tr>\n",
       "      <th>4</th>\n",
       "      <td>104</td>\n",
       "      <td>medium</td>\n",
       "      <td>2021-06-07</td>\n",
       "      <td>25.0</td>\n",
       "      <td>5</td>\n",
       "      <td>False</td>\n",
       "      <td>True</td>\n",
       "      <td>25.0</td>\n",
       "      <td>25.0</td>\n",
       "      <td>25.0</td>\n",
       "      <td>1.0</td>\n",
       "      <td>1623024000</td>\n",
       "    </tr>\n",
       "  </tbody>\n",
       "</table>\n",
       "</div>"
      ],
      "text/plain": [
       "    ID PriceBin       Date  Quantity  Review   isna  notna  Quantity_mean  \\\n",
       "0  100      low 2021-05-07      10.0       2  False   True           10.0   \n",
       "1  101   medium 2021-05-07      25.0       1  False   True           25.0   \n",
       "2  102     high 2021-06-07     100.0       3  False   True          100.0   \n",
       "3  103     high 2021-06-07       NaN       4   True  False           40.0   \n",
       "4  104   medium 2021-06-07      25.0       5  False   True           25.0   \n",
       "\n",
       "   Quantity_ffill  Quantity_bfill  PriceBin_encoded   Date_unix  \n",
       "0            10.0            10.0               0.0  1620345600  \n",
       "1            25.0            25.0               1.0  1620345600  \n",
       "2           100.0           100.0               2.0  1623024000  \n",
       "3           100.0            25.0               2.0  1623024000  \n",
       "4            25.0            25.0               1.0  1623024000  "
      ]
     },
     "execution_count": 13,
     "metadata": {},
     "output_type": "execute_result"
    }
   ],
   "source": [
    "df['Date'] = pd.to_datetime(df['Date'], format='%m/%d/%Y')  # Setting the date format is essential!\n",
    "df['Date_unix'] = df['Date'].astype(int) // 10**9  # Convert to seconds since epoch\n",
    "df"
   ]
  },
  {
   "cell_type": "markdown",
   "id": "93641a5f",
   "metadata": {},
   "source": [
    "# Data integration"
   ]
  },
  {
   "cell_type": "code",
   "execution_count": 14,
   "id": "2ec92bdf",
   "metadata": {
    "execution": {
     "iopub.execute_input": "2024-10-08T14:38:40.719774Z",
     "iopub.status.busy": "2024-10-08T14:38:40.719774Z",
     "iopub.status.idle": "2024-10-08T14:38:40.724260Z",
     "shell.execute_reply": "2024-10-08T14:38:40.724260Z"
    }
   },
   "outputs": [
    {
     "data": {
      "text/html": [
       "<div>\n",
       "<style scoped>\n",
       "    .dataframe tbody tr th:only-of-type {\n",
       "        vertical-align: middle;\n",
       "    }\n",
       "\n",
       "    .dataframe tbody tr th {\n",
       "        vertical-align: top;\n",
       "    }\n",
       "\n",
       "    .dataframe thead th {\n",
       "        text-align: right;\n",
       "    }\n",
       "</style>\n",
       "<table border=\"1\" class=\"dataframe\">\n",
       "  <thead>\n",
       "    <tr style=\"text-align: right;\">\n",
       "      <th></th>\n",
       "      <th>ProductID</th>\n",
       "      <th>ProductName</th>\n",
       "    </tr>\n",
       "  </thead>\n",
       "  <tbody>\n",
       "    <tr>\n",
       "      <th>0</th>\n",
       "      <td>100</td>\n",
       "      <td>Cola</td>\n",
       "    </tr>\n",
       "    <tr>\n",
       "      <th>1</th>\n",
       "      <td>101</td>\n",
       "      <td>Bread</td>\n",
       "    </tr>\n",
       "    <tr>\n",
       "      <th>2</th>\n",
       "      <td>102</td>\n",
       "      <td>Beer</td>\n",
       "    </tr>\n",
       "    <tr>\n",
       "      <th>3</th>\n",
       "      <td>103</td>\n",
       "      <td>Diaper</td>\n",
       "    </tr>\n",
       "    <tr>\n",
       "      <th>4</th>\n",
       "      <td>104</td>\n",
       "      <td>Pizza</td>\n",
       "    </tr>\n",
       "  </tbody>\n",
       "</table>\n",
       "</div>"
      ],
      "text/plain": [
       "   ProductID ProductName\n",
       "0        100        Cola\n",
       "1        101       Bread\n",
       "2        102        Beer\n",
       "3        103      Diaper\n",
       "4        104       Pizza"
      ]
     },
     "execution_count": 14,
     "metadata": {},
     "output_type": "execute_result"
    }
   ],
   "source": [
    "products_df = pd.DataFrame({'ProductID': [100, 101, 102, 103, 104], 'ProductName': ['Cola', 'Bread', 'Beer', 'Diaper', 'Pizza']})\n",
    "products_df"
   ]
  },
  {
   "cell_type": "code",
   "execution_count": 15,
   "id": "acfbcf36",
   "metadata": {
    "execution": {
     "iopub.execute_input": "2024-10-08T14:38:40.726270Z",
     "iopub.status.busy": "2024-10-08T14:38:40.725270Z",
     "iopub.status.idle": "2024-10-08T14:38:40.734816Z",
     "shell.execute_reply": "2024-10-08T14:38:40.734816Z"
    }
   },
   "outputs": [
    {
     "data": {
      "text/html": [
       "<div>\n",
       "<style scoped>\n",
       "    .dataframe tbody tr th:only-of-type {\n",
       "        vertical-align: middle;\n",
       "    }\n",
       "\n",
       "    .dataframe tbody tr th {\n",
       "        vertical-align: top;\n",
       "    }\n",
       "\n",
       "    .dataframe thead th {\n",
       "        text-align: right;\n",
       "    }\n",
       "</style>\n",
       "<table border=\"1\" class=\"dataframe\">\n",
       "  <thead>\n",
       "    <tr style=\"text-align: right;\">\n",
       "      <th></th>\n",
       "      <th>ID</th>\n",
       "      <th>PriceBin</th>\n",
       "      <th>Date</th>\n",
       "      <th>Quantity</th>\n",
       "      <th>Review</th>\n",
       "      <th>isna</th>\n",
       "      <th>notna</th>\n",
       "      <th>Quantity_mean</th>\n",
       "      <th>Quantity_ffill</th>\n",
       "      <th>Quantity_bfill</th>\n",
       "      <th>PriceBin_encoded</th>\n",
       "      <th>Date_unix</th>\n",
       "      <th>ProductName</th>\n",
       "    </tr>\n",
       "  </thead>\n",
       "  <tbody>\n",
       "    <tr>\n",
       "      <th>0</th>\n",
       "      <td>100</td>\n",
       "      <td>low</td>\n",
       "      <td>2021-05-07</td>\n",
       "      <td>10.0</td>\n",
       "      <td>2</td>\n",
       "      <td>False</td>\n",
       "      <td>True</td>\n",
       "      <td>10.0</td>\n",
       "      <td>10.0</td>\n",
       "      <td>10.0</td>\n",
       "      <td>0.0</td>\n",
       "      <td>1620345600</td>\n",
       "      <td>Cola</td>\n",
       "    </tr>\n",
       "    <tr>\n",
       "      <th>1</th>\n",
       "      <td>101</td>\n",
       "      <td>medium</td>\n",
       "      <td>2021-05-07</td>\n",
       "      <td>25.0</td>\n",
       "      <td>1</td>\n",
       "      <td>False</td>\n",
       "      <td>True</td>\n",
       "      <td>25.0</td>\n",
       "      <td>25.0</td>\n",
       "      <td>25.0</td>\n",
       "      <td>1.0</td>\n",
       "      <td>1620345600</td>\n",
       "      <td>Bread</td>\n",
       "    </tr>\n",
       "    <tr>\n",
       "      <th>2</th>\n",
       "      <td>102</td>\n",
       "      <td>high</td>\n",
       "      <td>2021-06-07</td>\n",
       "      <td>100.0</td>\n",
       "      <td>3</td>\n",
       "      <td>False</td>\n",
       "      <td>True</td>\n",
       "      <td>100.0</td>\n",
       "      <td>100.0</td>\n",
       "      <td>100.0</td>\n",
       "      <td>2.0</td>\n",
       "      <td>1623024000</td>\n",
       "      <td>Beer</td>\n",
       "    </tr>\n",
       "    <tr>\n",
       "      <th>3</th>\n",
       "      <td>103</td>\n",
       "      <td>high</td>\n",
       "      <td>2021-06-07</td>\n",
       "      <td>NaN</td>\n",
       "      <td>4</td>\n",
       "      <td>True</td>\n",
       "      <td>False</td>\n",
       "      <td>40.0</td>\n",
       "      <td>100.0</td>\n",
       "      <td>25.0</td>\n",
       "      <td>2.0</td>\n",
       "      <td>1623024000</td>\n",
       "      <td>Diaper</td>\n",
       "    </tr>\n",
       "    <tr>\n",
       "      <th>4</th>\n",
       "      <td>104</td>\n",
       "      <td>medium</td>\n",
       "      <td>2021-06-07</td>\n",
       "      <td>25.0</td>\n",
       "      <td>5</td>\n",
       "      <td>False</td>\n",
       "      <td>True</td>\n",
       "      <td>25.0</td>\n",
       "      <td>25.0</td>\n",
       "      <td>25.0</td>\n",
       "      <td>1.0</td>\n",
       "      <td>1623024000</td>\n",
       "      <td>Pizza</td>\n",
       "    </tr>\n",
       "  </tbody>\n",
       "</table>\n",
       "</div>"
      ],
      "text/plain": [
       "    ID PriceBin       Date  Quantity  Review   isna  notna  Quantity_mean  \\\n",
       "0  100      low 2021-05-07      10.0       2  False   True           10.0   \n",
       "1  101   medium 2021-05-07      25.0       1  False   True           25.0   \n",
       "2  102     high 2021-06-07     100.0       3  False   True          100.0   \n",
       "3  103     high 2021-06-07       NaN       4   True  False           40.0   \n",
       "4  104   medium 2021-06-07      25.0       5  False   True           25.0   \n",
       "\n",
       "   Quantity_ffill  Quantity_bfill  PriceBin_encoded   Date_unix ProductName  \n",
       "0            10.0            10.0               0.0  1620345600        Cola  \n",
       "1            25.0            25.0               1.0  1620345600       Bread  \n",
       "2           100.0           100.0               2.0  1623024000        Beer  \n",
       "3           100.0            25.0               2.0  1623024000      Diaper  \n",
       "4            25.0            25.0               1.0  1623024000       Pizza  "
      ]
     },
     "execution_count": 15,
     "metadata": {},
     "output_type": "execute_result"
    }
   ],
   "source": [
    "products_df = products_df.rename({\"ProductID\": \"ID\"}, axis=1)\n",
    "combined_df = pd.merge(df, products_df, on='ID', how='left')\n",
    "combined_df"
   ]
  },
  {
   "cell_type": "markdown",
   "id": "J0HQ1UGLZKw0",
   "metadata": {
    "id": "J0HQ1UGLZKw0"
   },
   "source": [
    "# Exercise\n",
    "\n",
    "1. Generate a sales dataframe\n",
    "\n",
    "```python\n",
    "{\n",
    "    'ID': [1, 2, 3, 4, 5],\n",
    "    'ProductID': [101, 102, 103, 101, 104],\n",
    "    'PriceBin': ['Low', 'Medium', 'High', np.nan, 'Low'],\n",
    "    'Date': ['10/01/2024', '10/02/2024', '10/03/2024', '10/04/2024', '10/05/2024'],\n",
    "    'Quantity': [5, 10, np.nan, 20, 15]\n",
    "}\n",
    "```\n",
    "\n",
    "2. Generate a products dataframe\n",
    "\n",
    "```python\n",
    "{\n",
    "    'productid': [101, 102, 103, 104],\n",
    "    'ProductName': ['Product A', 'Product B', 'Product C', 'Product D']\n",
    "}\n",
    "```\n",
    "\n",
    "3. Handle missing values in `sales_df`\n",
    "4. Convert `Date` to Unix timestamp\n",
    "5. Calculate a column `Total Sales` (quantity * price), assuming that `{'Low': 10, 'Medium': 20, 'High': 30}`\n",
    "6. Ordinal encode `PriceBin`\n",
    "7. Scale `Quantity`\n",
    "8. Join `sales_df` with `products_df` on `ProductID`\n",
    "9. Print the final dataframe\n"
   ]
  },
  {
   "cell_type": "code",
   "execution_count": 16,
   "id": "qZWX_HgfeQpM",
   "metadata": {
    "execution": {
     "iopub.execute_input": "2024-10-08T14:38:40.736836Z",
     "iopub.status.busy": "2024-10-08T14:38:40.735820Z",
     "iopub.status.idle": "2024-10-08T14:38:40.738699Z",
     "shell.execute_reply": "2024-10-08T14:38:40.738699Z"
    },
    "id": "qZWX_HgfeQpM"
   },
   "outputs": [],
   "source": [
    "# Write your code here"
   ]
  }
 ],
 "metadata": {
  "celltoolbar": "Slideshow",
  "colab": {
   "include_colab_link": true,
   "provenance": []
  },
  "kernelspec": {
   "display_name": "Python 3 (ipykernel)",
   "language": "python",
   "name": "python3"
  },
  "language_info": {
   "codemirror_mode": {
    "name": "ipython",
    "version": 3
   },
   "file_extension": ".py",
   "mimetype": "text/x-python",
   "name": "python",
   "nbconvert_exporter": "python",
   "pygments_lexer": "ipython3",
   "version": "3.11.9"
  }
 },
 "nbformat": 4,
 "nbformat_minor": 5
}
