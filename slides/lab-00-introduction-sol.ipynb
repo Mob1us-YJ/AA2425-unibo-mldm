{
  "cells": [
    {
      "cell_type": "markdown",
      "metadata": {
        "id": "view-in-github",
        "colab_type": "text"
      },
      "source": [
        "<a href=\"https://colab.research.google.com/github/w4bo/AA2425-unibo-mldm/blob/master/slides/lab-00-introduction-sol.ipynb\" target=\"_parent\"><img src=\"https://colab.research.google.com/assets/colab-badge.svg\" alt=\"Open In Colab\"/></a>"
      ]
    },
    {
      "cell_type": "markdown",
      "metadata": {
        "id": "VaTYWpBnXs-I"
      },
      "source": [
        "# Lab 00 - Introduction\n",
        "\n",
        "\n",
        "- **It is absolutely recommended to read the documentation relating to the functions and methods used!**\n",
        "- Usually, it is sufficient type on Google the name of the function (and eventually the name of the library used).\n",
        "\n"
      ]
    },
    {
      "cell_type": "markdown",
      "metadata": {
        "id": "Fdjrwg0N-36p"
      },
      "source": [
        "## Locating the data\n",
        "\n",
        "These are main options to use files/datasets in a Colab project:\n",
        "\n",
        "1. Use the existing data in the `/content/sample_data/` folder\n",
        "2. Upload a new dataset (as file)\n",
        "  - Upload the file through the Colab GUI (temporary upload!);\n",
        "  - Upload the file on your Google Drive (you have to use the same Google account that you use with Colab)). Then, it is necessary to mount the drive in your Colab machine (use the \"Mount Drive\" button.);\n",
        "  - Use the following code snippet, file are uploaded to `/content/<file_name>`\n",
        "3. Use existing datasets from the web\n"
      ]
    },
    {
      "cell_type": "markdown",
      "source": [
        "### Read the existing data\n",
        "\n",
        "`open(<path>, <mode>)`: open the file located in the `path`, for reading, writing, ect. depending by the `mode`.\n"
      ],
      "metadata": {
        "id": "TrFuawlDUo6a"
      }
    },
    {
      "cell_type": "code",
      "source": [
        "file_path = '/content/sample_data/california_housing_train.csv'\n",
        "with open(file_path, 'r') as f:\n",
        "    lines = f.readlines()\n",
        "print('Read {} lines'.format(len(lines)))"
      ],
      "metadata": {
        "id": "Ox8U-ggRUP3C",
        "outputId": "9c000d7e-8e00-4eb9-801a-aae7d421f514",
        "colab": {
          "base_uri": "https://localhost:8080/"
        }
      },
      "execution_count": 51,
      "outputs": [
        {
          "output_type": "stream",
          "name": "stdout",
          "text": [
            "Read 17001 lines\n"
          ]
        }
      ]
    },
    {
      "cell_type": "markdown",
      "source": [
        "### Upload new data"
      ],
      "metadata": {
        "id": "M6KwinkPUuZF"
      }
    },
    {
      "cell_type": "code",
      "execution_count": 52,
      "metadata": {
        "id": "AozF-BXlGOTA"
      },
      "outputs": [],
      "source": [
        "from google.colab import files\n",
        "# uploaded = files.upload()  # uncomment this line to open the prompt to upload the dataset"
      ]
    },
    {
      "cell_type": "markdown",
      "source": [
        "### Import data from the web"
      ],
      "metadata": {
        "id": "9ZznBC_0U7_6"
      }
    },
    {
      "cell_type": "code",
      "source": [
        "# prompt: import the california housing pricedataset from kaggle into a pandas dataframe\n",
        "\n",
        "!rm -rf iris/ || true\n",
        "!rm iris.zip || true\n",
        "!wget https://archive.ics.uci.edu/static/public/53/iris.zip\n",
        "!unzip iris.zip -d iris\n",
        "\n",
        "file_path = '/content/iris/iris.data'\n",
        "with open(file_path, 'r') as f:\n",
        "    lines = f.readlines()\n",
        "print('Read {} lines'.format(len(lines)))"
      ],
      "metadata": {
        "id": "xhVXcbjdU_4N",
        "outputId": "0c353aa2-ceb6-450b-8539-16fa1ceae466",
        "colab": {
          "base_uri": "https://localhost:8080/"
        }
      },
      "execution_count": 53,
      "outputs": [
        {
          "output_type": "stream",
          "name": "stdout",
          "text": [
            "--2024-08-22 14:01:06--  https://archive.ics.uci.edu/static/public/53/iris.zip\n",
            "Resolving archive.ics.uci.edu (archive.ics.uci.edu)... 128.195.10.252\n",
            "Connecting to archive.ics.uci.edu (archive.ics.uci.edu)|128.195.10.252|:443... connected.\n",
            "HTTP request sent, awaiting response... 200 OK\n",
            "Length: unspecified\n",
            "Saving to: ‘iris.zip’\n",
            "\n",
            "iris.zip                [ <=>                ]   3.65K  --.-KB/s    in 0s      \n",
            "\n",
            "2024-08-22 14:01:06 (379 MB/s) - ‘iris.zip’ saved [3738]\n",
            "\n",
            "Archive:  iris.zip\n",
            "  inflating: iris/Index              \n",
            "  inflating: iris/bezdekIris.data    \n",
            "  inflating: iris/iris.data          \n",
            "  inflating: iris/iris.names         \n",
            "Read 151 lines\n"
          ]
        }
      ]
    },
    {
      "cell_type": "markdown",
      "source": [
        "Tools for managing strings and lists:\n",
        "\n",
        "- `strip()`: removes both the leading and the trailing characters.\n",
        "- `split()`: breaks up a string at the specified separator and returns a list of strings.\n",
        "- List slicing: `list[start:stop:step]`\n",
        "\n",
        "Examples:\n",
        "\n",
        "*   `a[start:stop]  # items start through stop-1`\n",
        "*   `a[start:]      # items start through the rest of the array`\n",
        "*   `a[:stop]       # items from the beginning through stop-1`\n",
        "*   `a[:]           # a copy of the whole array`\n",
        "*   `a[-1]    # last item in the array`\n",
        "*   `a[-2:]   # last two items in the array`\n",
        "*   `a[:-2]   # everything except the last two items`\n",
        "*    `a[::-1]    # all items in the array, reversed`"
      ],
      "metadata": {
        "id": "fEIY4a3QWB8V"
      }
    },
    {
      "cell_type": "code",
      "source": [
        "lines[:5]"
      ],
      "metadata": {
        "id": "kriJZ4gdV5On",
        "outputId": "906bb28e-a8ec-4450-c19d-c463d393970e",
        "colab": {
          "base_uri": "https://localhost:8080/"
        }
      },
      "execution_count": 54,
      "outputs": [
        {
          "output_type": "execute_result",
          "data": {
            "text/plain": [
              "['5.1,3.5,1.4,0.2,Iris-setosa\\n',\n",
              " '4.9,3.0,1.4,0.2,Iris-setosa\\n',\n",
              " '4.7,3.2,1.3,0.2,Iris-setosa\\n',\n",
              " '4.6,3.1,1.5,0.2,Iris-setosa\\n',\n",
              " '5.0,3.6,1.4,0.2,Iris-setosa\\n']"
            ]
          },
          "metadata": {},
          "execution_count": 54
        }
      ]
    },
    {
      "cell_type": "code",
      "execution_count": 55,
      "metadata": {
        "id": "AkjpEdlL7J7b",
        "colab": {
          "base_uri": "https://localhost:8080/"
        },
        "outputId": "6bae9aba-6355-4479-9d75-4d75b4f2a624"
      },
      "outputs": [
        {
          "output_type": "stream",
          "name": "stdout",
          "text": [
            "Raw content: 5.1,3.5,1.4,0.2,Iris-setosa\n",
            "\n",
            "Content after strip: 5.1,3.5,1.4,0.2,Iris-setosa\n",
            "Content after split: ['5.1', '3.5', '1.4', '0.2', 'Iris-setosa']\n",
            "Data: ['5.1', '3.5', '1.4'] Label: Iris-setosa\n",
            "---\n",
            "Raw content: 4.9,3.0,1.4,0.2,Iris-setosa\n",
            "\n",
            "Content after strip: 4.9,3.0,1.4,0.2,Iris-setosa\n",
            "Content after split: ['4.9', '3.0', '1.4', '0.2', 'Iris-setosa']\n",
            "Data: ['4.9', '3.0', '1.4'] Label: Iris-setosa\n",
            "---\n"
          ]
        }
      ],
      "source": [
        "for line in lines[:2]:\n",
        "    print(\"Raw content:\", line)\n",
        "    content = line.strip()\n",
        "    print(\"Content after strip:\", content)\n",
        "    content = content.split(',')\n",
        "    print(\"Content after split:\", content)\n",
        "    # now the content is a list with the splitted elements\n",
        "    data = content[:-2]   # the image name is in the first position\n",
        "    label = content[-1] # coordinates in the following part\n",
        "    # print the content\n",
        "    print('Data:', data, 'Label:', label)\n",
        "    print('---')"
      ]
    },
    {
      "cell_type": "markdown",
      "metadata": {
        "id": "XRi9VA5U-OEC"
      },
      "source": [
        "Note that the element in the list are strings. We must convert these strings in integers (`int`). These integers are then saved in a list.\n",
        "\n",
        "**Tools**:\n",
        "- List comprehension: `[expression for item in list]`"
      ]
    },
    {
      "cell_type": "code",
      "execution_count": 56,
      "metadata": {
        "id": "2w3TPSIP7Op7",
        "colab": {
          "base_uri": "https://localhost:8080/"
        },
        "outputId": "1154864b-b6c4-4014-a8f6-8386977f73a2"
      },
      "outputs": [
        {
          "output_type": "stream",
          "name": "stdout",
          "text": [
            "Type of the data: <class 'str'>\n",
            "Type of the data: [<class 'float'>, <class 'float'>, <class 'float'>]\n"
          ]
        },
        {
          "output_type": "execute_result",
          "data": {
            "text/plain": [
              "[4.9, 3.0, 1.4]"
            ]
          },
          "metadata": {},
          "execution_count": 56
        }
      ],
      "source": [
        "print('Type of the data:', type(data[0]))\n",
        "data = [float(x) for x in data]\n",
        "print('Type of the data:', [type(x) for x in data])\n",
        "data"
      ]
    },
    {
      "cell_type": "markdown",
      "metadata": {
        "id": "OQlZB3AKNbdB"
      },
      "source": [
        "### Exercise\n",
        "\n",
        "1. Read the content of the file `iris.data`\n",
        "1. **Accumulate** the data and the labels in two different lists, named `dataset` and `labels`\n",
        "1. Cast all data to float\n",
        "1. Output the final length of the two lists.\n",
        "\n",
        "Given the input file with content\n",
        "\n",
        "    5.1,3.5,1.4,0.2,Iris-setosa\n",
        "    4.9,3.0,1.4,0.2,Iris-setosa\n",
        "    ...\n",
        "\n",
        "The lists should look like\n",
        "\n",
        "```python\n",
        "dataset = [[5.1,3.5,1.4,0.2], [4.9,3.0,1.4,0.2], ...]\n",
        "labels = ['Iris-setosa', 'Iris-setosa', ...]\n",
        "```"
      ]
    },
    {
      "cell_type": "code",
      "execution_count": 57,
      "metadata": {
        "id": "W4tkbP8yITed"
      },
      "outputs": [],
      "source": [
        "# write the code here"
      ]
    },
    {
      "cell_type": "code",
      "source": [
        "dataset = []\n",
        "labels = []\n",
        "with open(file_path, 'r') as f:\n",
        "    lines = f.readlines()\n",
        "    for line in lines:\n",
        "        line = line.strip().split(',')\n",
        "        if len(line) > 1:\n",
        "            dataset.extend([[float(x) for x in line[:-2]]])\n",
        "            labels += [line[-1]]\n",
        "print('Dataset:', len(dataset), 'Labels:', len(labels))"
      ],
      "metadata": {
        "id": "_Jx-WrrWXhFq",
        "outputId": "b79e2e00-0b4d-4a66-bc64-e37a4f897c60",
        "colab": {
          "base_uri": "https://localhost:8080/"
        }
      },
      "execution_count": 58,
      "outputs": [
        {
          "output_type": "stream",
          "name": "stdout",
          "text": [
            "Dataset: 150 Labels: 150\n"
          ]
        }
      ]
    }
  ],
  "metadata": {
    "colab": {
      "provenance": [],
      "include_colab_link": true
    },
    "kernelspec": {
      "display_name": "Python 3 (ipykernel)",
      "language": "python",
      "name": "python3"
    },
    "language_info": {
      "codemirror_mode": {
        "name": "ipython",
        "version": 3
      },
      "file_extension": ".py",
      "mimetype": "text/x-python",
      "name": "python",
      "nbconvert_exporter": "python",
      "pygments_lexer": "ipython3",
      "version": "3.11.3"
    }
  },
  "nbformat": 4,
  "nbformat_minor": 0
}