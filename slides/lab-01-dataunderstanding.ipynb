{
  "cells": [
    {
      "cell_type": "markdown",
      "metadata": {
        "id": "view-in-github",
        "colab_type": "text"
      },
      "source": [
        "<a href=\"https://colab.research.google.com/github/w4bo/AA2425-unibo-mldm/blob/master/slides/lab-01-dataunderstanding.ipynb\" target=\"_parent\"><img src=\"https://colab.research.google.com/assets/colab-badge.svg\" alt=\"Open In Colab\"/></a>"
      ]
    },
    {
      "cell_type": "markdown",
      "id": "aiR8P8P1ec9h",
      "metadata": {
        "id": "aiR8P8P1ec9h"
      },
      "source": [
        "# Introduction to Pandas"
      ]
    },
    {
      "cell_type": "markdown",
      "id": "85da03a2",
      "metadata": {
        "id": "85da03a2"
      },
      "source": [
        "**Pandas** is the shorthand for 'Python and Data Analysis'\n",
        "\n",
        "- It provides a rich set of features for exploring and manipulating data\n",
        "- https://pandas.pydata.org/\n",
        "\n",
        "pandas (Python) is a solution for the manipulation of relational data\n",
        "\n",
        "- Two main data types: Series (e.g., temporal series) and DataFrame (e.g., table)\n",
        "- Support to SQL-like operations (join/merge, aggregation, etc.)\n",
        "- Data transformation: imputation of missing values, manipulation of data shape, ...\n",
        "- By convention, the package pandas is imported as `pd`\n"
      ]
    },
    {
      "cell_type": "code",
      "execution_count": null,
      "id": "aacb3166",
      "metadata": {
        "colab": {
          "base_uri": "https://localhost:8080/"
        },
        "id": "aacb3166",
        "outputId": "de89e76c-077f-4794-f448-2e10c89e7d4e"
      },
      "outputs": [
        {
          "name": "stdout",
          "output_type": "stream",
          "text": [
            "2.2.2\n"
          ]
        }
      ],
      "source": [
        "import pandas as pd\n",
        "print(pd.__version__)"
      ]
    },
    {
      "cell_type": "markdown",
      "id": "ff002373",
      "metadata": {
        "id": "ff002373"
      },
      "source": [
        "... plus we will use other libraries"
      ]
    },
    {
      "cell_type": "code",
      "execution_count": null,
      "id": "3932b785",
      "metadata": {
        "id": "3932b785"
      },
      "outputs": [],
      "source": [
        "import numpy as np  # fast operations on arrays\n",
        "import seaborn as sns  # plots\n",
        "import matplotlib.pyplot as plt  # plots"
      ]
    },
    {
      "cell_type": "markdown",
      "id": "b277327a",
      "metadata": {
        "id": "b277327a"
      },
      "source": [
        "## [DataFrame](https://pandas.pydata.org/docs/reference/api/pandas.DataFrame.html)\n",
        "\n",
        "- Two-dimensional, size-mutable, potentially heterogeneous tabular data.\n",
        "- The primary pandas data structure.\n",
        "- Data structure also contains labeled axes (rows and columns).\n",
        "- Arithmetic operations align on both row and column labels.\n",
        "- Can be thought of as a dict-like container for Series objects."
      ]
    },
    {
      "cell_type": "code",
      "execution_count": null,
      "id": "74c37032",
      "metadata": {
        "colab": {
          "base_uri": "https://localhost:8080/",
          "height": 226
        },
        "id": "74c37032",
        "outputId": "45bb3eea-fc45-4c4b-b85b-4e92363a03b5",
        "scrolled": true
      },
      "outputs": [
        {
          "data": {
            "text/html": [
              "<div>\n",
              "<style scoped>\n",
              "    .dataframe tbody tr th:only-of-type {\n",
              "        vertical-align: middle;\n",
              "    }\n",
              "\n",
              "    .dataframe tbody tr th {\n",
              "        vertical-align: top;\n",
              "    }\n",
              "\n",
              "    .dataframe thead th {\n",
              "        text-align: right;\n",
              "    }\n",
              "</style>\n",
              "<table border=\"1\" class=\"dataframe\">\n",
              "  <thead>\n",
              "    <tr style=\"text-align: right;\">\n",
              "      <th></th>\n",
              "      <th>a</th>\n",
              "      <th>b</th>\n",
              "      <th>c</th>\n",
              "      <th>d</th>\n",
              "      <th>e</th>\n",
              "      <th>f</th>\n",
              "      <th>g</th>\n",
              "      <th>h</th>\n",
              "      <th>i</th>\n",
              "      <th>j</th>\n",
              "    </tr>\n",
              "  </thead>\n",
              "  <tbody>\n",
              "    <tr>\n",
              "      <th>0</th>\n",
              "      <td>0</td>\n",
              "      <td>1</td>\n",
              "      <td>2</td>\n",
              "      <td>3</td>\n",
              "      <td>4</td>\n",
              "      <td>5</td>\n",
              "      <td>6</td>\n",
              "      <td>7</td>\n",
              "      <td>8</td>\n",
              "      <td>9</td>\n",
              "    </tr>\n",
              "    <tr>\n",
              "      <th>1</th>\n",
              "      <td>1</td>\n",
              "      <td>2</td>\n",
              "      <td>3</td>\n",
              "      <td>4</td>\n",
              "      <td>5</td>\n",
              "      <td>6</td>\n",
              "      <td>7</td>\n",
              "      <td>8</td>\n",
              "      <td>9</td>\n",
              "      <td>10</td>\n",
              "    </tr>\n",
              "    <tr>\n",
              "      <th>2</th>\n",
              "      <td>2</td>\n",
              "      <td>3</td>\n",
              "      <td>4</td>\n",
              "      <td>5</td>\n",
              "      <td>6</td>\n",
              "      <td>7</td>\n",
              "      <td>8</td>\n",
              "      <td>9</td>\n",
              "      <td>10</td>\n",
              "      <td>11</td>\n",
              "    </tr>\n",
              "    <tr>\n",
              "      <th>3</th>\n",
              "      <td>3</td>\n",
              "      <td>4</td>\n",
              "      <td>5</td>\n",
              "      <td>6</td>\n",
              "      <td>7</td>\n",
              "      <td>8</td>\n",
              "      <td>9</td>\n",
              "      <td>10</td>\n",
              "      <td>11</td>\n",
              "      <td>12</td>\n",
              "    </tr>\n",
              "    <tr>\n",
              "      <th>4</th>\n",
              "      <td>4</td>\n",
              "      <td>5</td>\n",
              "      <td>6</td>\n",
              "      <td>7</td>\n",
              "      <td>8</td>\n",
              "      <td>9</td>\n",
              "      <td>10</td>\n",
              "      <td>11</td>\n",
              "      <td>12</td>\n",
              "      <td>13</td>\n",
              "    </tr>\n",
              "  </tbody>\n",
              "</table>\n",
              "</div>"
            ],
            "text/plain": [
              "   a  b  c  d  e  f   g   h   i   j\n",
              "0  0  1  2  3  4  5   6   7   8   9\n",
              "1  1  2  3  4  5  6   7   8   9  10\n",
              "2  2  3  4  5  6  7   8   9  10  11\n",
              "3  3  4  5  6  7  8   9  10  11  12\n",
              "4  4  5  6  7  8  9  10  11  12  13"
            ]
          },
          "execution_count": 3,
          "metadata": {},
          "output_type": "execute_result"
        }
      ],
      "source": [
        "# create a numeric dataframe/table\n",
        "df = pd.DataFrame([[i + j for i in range(10)] for j in range(5)],\n",
        "                  index=[i for i in range(5)],\n",
        "                  columns=list('abcdefghij'))\n",
        "df"
      ]
    },
    {
      "cell_type": "markdown",
      "id": "4a3c5636-f1bd-4852-95ec-5d9858d27980",
      "metadata": {
        "id": "4a3c5636-f1bd-4852-95ec-5d9858d27980"
      },
      "source": [
        "## Some operations"
      ]
    },
    {
      "cell_type": "code",
      "execution_count": null,
      "id": "e5cf8058",
      "metadata": {
        "colab": {
          "base_uri": "https://localhost:8080/",
          "height": 206
        },
        "id": "e5cf8058",
        "outputId": "f7338355-f16f-4b8c-a9e8-ad6eb57607be"
      },
      "outputs": [
        {
          "data": {
            "text/html": [
              "<div>\n",
              "<style scoped>\n",
              "    .dataframe tbody tr th:only-of-type {\n",
              "        vertical-align: middle;\n",
              "    }\n",
              "\n",
              "    .dataframe tbody tr th {\n",
              "        vertical-align: top;\n",
              "    }\n",
              "\n",
              "    .dataframe thead th {\n",
              "        text-align: right;\n",
              "    }\n",
              "</style>\n",
              "<table border=\"1\" class=\"dataframe\">\n",
              "  <thead>\n",
              "    <tr style=\"text-align: right;\">\n",
              "      <th></th>\n",
              "      <th>a</th>\n",
              "      <th>b</th>\n",
              "      <th>c</th>\n",
              "      <th>d</th>\n",
              "      <th>e</th>\n",
              "      <th>f</th>\n",
              "      <th>g</th>\n",
              "      <th>h</th>\n",
              "      <th>i</th>\n",
              "      <th>j</th>\n",
              "    </tr>\n",
              "  </thead>\n",
              "  <tbody>\n",
              "    <tr>\n",
              "      <th>4</th>\n",
              "      <td>4</td>\n",
              "      <td>5</td>\n",
              "      <td>6</td>\n",
              "      <td>7</td>\n",
              "      <td>8</td>\n",
              "      <td>9</td>\n",
              "      <td>10</td>\n",
              "      <td>11</td>\n",
              "      <td>12</td>\n",
              "      <td>13</td>\n",
              "    </tr>\n",
              "    <tr>\n",
              "      <th>3</th>\n",
              "      <td>3</td>\n",
              "      <td>4</td>\n",
              "      <td>5</td>\n",
              "      <td>6</td>\n",
              "      <td>7</td>\n",
              "      <td>8</td>\n",
              "      <td>9</td>\n",
              "      <td>10</td>\n",
              "      <td>11</td>\n",
              "      <td>12</td>\n",
              "    </tr>\n",
              "    <tr>\n",
              "      <th>2</th>\n",
              "      <td>2</td>\n",
              "      <td>3</td>\n",
              "      <td>4</td>\n",
              "      <td>5</td>\n",
              "      <td>6</td>\n",
              "      <td>7</td>\n",
              "      <td>8</td>\n",
              "      <td>9</td>\n",
              "      <td>10</td>\n",
              "      <td>11</td>\n",
              "    </tr>\n",
              "    <tr>\n",
              "      <th>1</th>\n",
              "      <td>1</td>\n",
              "      <td>2</td>\n",
              "      <td>3</td>\n",
              "      <td>4</td>\n",
              "      <td>5</td>\n",
              "      <td>6</td>\n",
              "      <td>7</td>\n",
              "      <td>8</td>\n",
              "      <td>9</td>\n",
              "      <td>10</td>\n",
              "    </tr>\n",
              "    <tr>\n",
              "      <th>0</th>\n",
              "      <td>0</td>\n",
              "      <td>1</td>\n",
              "      <td>2</td>\n",
              "      <td>3</td>\n",
              "      <td>4</td>\n",
              "      <td>5</td>\n",
              "      <td>6</td>\n",
              "      <td>7</td>\n",
              "      <td>8</td>\n",
              "      <td>9</td>\n",
              "    </tr>\n",
              "  </tbody>\n",
              "</table>\n",
              "</div>"
            ],
            "text/plain": [
              "   a  b  c  d  e  f   g   h   i   j\n",
              "4  4  5  6  7  8  9  10  11  12  13\n",
              "3  3  4  5  6  7  8   9  10  11  12\n",
              "2  2  3  4  5  6  7   8   9  10  11\n",
              "1  1  2  3  4  5  6   7   8   9  10\n",
              "0  0  1  2  3  4  5   6   7   8   9"
            ]
          },
          "execution_count": 4,
          "metadata": {},
          "output_type": "execute_result"
        }
      ],
      "source": [
        "# Get the headers (i.e., the column names)\n",
        "df.columns\n",
        "# Get just the first two rows\n",
        "df.head(2)\n",
        "# Get just the last two rows\n",
        "df.tail(2)\n",
        "# Sort the dataframe by columns\n",
        "df.sort_values(by=['a', 'b'], ascending=[False, True])"
      ]
    },
    {
      "cell_type": "markdown",
      "id": "0952b32b",
      "metadata": {
        "id": "0952b32b"
      },
      "source": [
        "## [Series](https://pandas.pydata.org/docs/reference/api/pandas.Series.html)\n",
        "\n",
        "A sequence of values with the same type\n",
        "\n",
        "- Each value is associate with a label\n",
        "- Supported values and label types are the ones from NumPy (float64, int64, etc.)\n",
        "- In other words, a series is a mono-dimensional vector of elements\n",
        "\n",
        "The index of a series is the sequence of labels\n",
        "\n",
        "- Label are usually numeric or string identifiers (e.g., the primary key of a database table)\n",
        "- Labels need not be unique but must be a hashable type (both integer- and label-based indexing)"
      ]
    },
    {
      "cell_type": "code",
      "execution_count": null,
      "id": "205a800c",
      "metadata": {
        "colab": {
          "base_uri": "https://localhost:8080/",
          "height": 216
        },
        "id": "205a800c",
        "outputId": "ee7c35e1-e9ca-40ed-b5a3-e58fb5e9e1a4"
      },
      "outputs": [
        {
          "data": {
            "text/plain": [
              "a    1\n",
              "b    2\n",
              "c    3\n",
              "dtype: int64"
            ]
          },
          "execution_count": 5,
          "metadata": {},
          "output_type": "execute_result"
        }
      ],
      "source": [
        "pd.Series([1, 2, 3], index=[\"a\", \"b\", \"c\"])"
      ]
    },
    {
      "cell_type": "code",
      "execution_count": null,
      "id": "a4ed958f",
      "metadata": {
        "colab": {
          "base_uri": "https://localhost:8080/",
          "height": 278
        },
        "id": "a4ed958f",
        "outputId": "55e128f0-c560-41ee-f31a-0b2c1dcd6e07"
      },
      "outputs": [
        {
          "data": {
            "text/plain": [
              "0    0\n",
              "1    1\n",
              "2    2\n",
              "3    3\n",
              "4    4\n",
              "Name: a, dtype: int64"
            ]
          },
          "execution_count": 6,
          "metadata": {},
          "output_type": "execute_result"
        }
      ],
      "source": [
        "# Select a column (i.e., a series) as in a SQL projection\n",
        "df['a']"
      ]
    },
    {
      "cell_type": "markdown",
      "id": "4fbe3136",
      "metadata": {
        "id": "4fbe3136"
      },
      "source": [
        "## Doing some element-wise operations\n",
        "\n",
        "Operations between Series (e.g., +, -, /) align values based on their associated index values"
      ]
    },
    {
      "cell_type": "code",
      "execution_count": null,
      "id": "8af0fee7-2e12-4b68-8634-58a26ae19839",
      "metadata": {
        "id": "8af0fee7-2e12-4b68-8634-58a26ae19839",
        "outputId": "44762d8c-a2cd-46d7-ede2-161edaa90c77"
      },
      "outputs": [
        {
          "data": {
            "text/html": [
              "<div>\n",
              "<style scoped>\n",
              "    .dataframe tbody tr th:only-of-type {\n",
              "        vertical-align: middle;\n",
              "    }\n",
              "\n",
              "    .dataframe tbody tr th {\n",
              "        vertical-align: top;\n",
              "    }\n",
              "\n",
              "    .dataframe thead th {\n",
              "        text-align: right;\n",
              "    }\n",
              "</style>\n",
              "<table border=\"1\" class=\"dataframe\">\n",
              "  <thead>\n",
              "    <tr style=\"text-align: right;\">\n",
              "      <th></th>\n",
              "      <th>a</th>\n",
              "      <th>b</th>\n",
              "      <th>c</th>\n",
              "      <th>d</th>\n",
              "      <th>e</th>\n",
              "      <th>f</th>\n",
              "      <th>g</th>\n",
              "      <th>h</th>\n",
              "      <th>i</th>\n",
              "      <th>j</th>\n",
              "      <th>k</th>\n",
              "    </tr>\n",
              "  </thead>\n",
              "  <tbody>\n",
              "    <tr>\n",
              "      <th>0</th>\n",
              "      <td>0</td>\n",
              "      <td>1</td>\n",
              "      <td>2</td>\n",
              "      <td>3</td>\n",
              "      <td>4</td>\n",
              "      <td>5</td>\n",
              "      <td>6</td>\n",
              "      <td>7</td>\n",
              "      <td>8</td>\n",
              "      <td>9</td>\n",
              "      <td>0</td>\n",
              "    </tr>\n",
              "    <tr>\n",
              "      <th>1</th>\n",
              "      <td>1</td>\n",
              "      <td>2</td>\n",
              "      <td>3</td>\n",
              "      <td>4</td>\n",
              "      <td>5</td>\n",
              "      <td>6</td>\n",
              "      <td>7</td>\n",
              "      <td>8</td>\n",
              "      <td>9</td>\n",
              "      <td>10</td>\n",
              "      <td>2</td>\n",
              "    </tr>\n",
              "    <tr>\n",
              "      <th>2</th>\n",
              "      <td>2</td>\n",
              "      <td>3</td>\n",
              "      <td>4</td>\n",
              "      <td>5</td>\n",
              "      <td>6</td>\n",
              "      <td>7</td>\n",
              "      <td>8</td>\n",
              "      <td>9</td>\n",
              "      <td>10</td>\n",
              "      <td>11</td>\n",
              "      <td>6</td>\n",
              "    </tr>\n",
              "    <tr>\n",
              "      <th>3</th>\n",
              "      <td>3</td>\n",
              "      <td>4</td>\n",
              "      <td>5</td>\n",
              "      <td>6</td>\n",
              "      <td>7</td>\n",
              "      <td>8</td>\n",
              "      <td>9</td>\n",
              "      <td>10</td>\n",
              "      <td>11</td>\n",
              "      <td>12</td>\n",
              "      <td>12</td>\n",
              "    </tr>\n",
              "    <tr>\n",
              "      <th>4</th>\n",
              "      <td>4</td>\n",
              "      <td>5</td>\n",
              "      <td>6</td>\n",
              "      <td>7</td>\n",
              "      <td>8</td>\n",
              "      <td>9</td>\n",
              "      <td>10</td>\n",
              "      <td>11</td>\n",
              "      <td>12</td>\n",
              "      <td>13</td>\n",
              "      <td>20</td>\n",
              "    </tr>\n",
              "  </tbody>\n",
              "</table>\n",
              "</div>"
            ],
            "text/plain": [
              "   a  b  c  d  e  f   g   h   i   j   k\n",
              "0  0  1  2  3  4  5   6   7   8   9   0\n",
              "1  1  2  3  4  5  6   7   8   9  10   2\n",
              "2  2  3  4  5  6  7   8   9  10  11   6\n",
              "3  3  4  5  6  7  8   9  10  11  12  12\n",
              "4  4  5  6  7  8  9  10  11  12  13  20"
            ]
          },
          "execution_count": 7,
          "metadata": {},
          "output_type": "execute_result"
        }
      ],
      "source": [
        "# Add another column to the dataframe\n",
        "df['k'] = df['a'] * df['b']\n",
        "df"
      ]
    },
    {
      "cell_type": "code",
      "execution_count": null,
      "id": "50a5bde6",
      "metadata": {
        "colab": {
          "base_uri": "https://localhost:8080/",
          "height": 216
        },
        "id": "50a5bde6",
        "outputId": "c58ad916-7ffe-4fe8-ecb7-f7ec0f3c30aa"
      },
      "outputs": [
        {
          "data": {
            "text/plain": [
              "a    3\n",
              "b    3\n",
              "c    6\n",
              "dtype: int64"
            ]
          },
          "execution_count": 8,
          "metadata": {},
          "output_type": "execute_result"
        }
      ],
      "source": [
        "ser_a = pd.Series([1, 2, 3], index=[\"a\", \"b\", \"c\"])\n",
        "ser_b = pd.Series([1, 2, 3], index=[\"b\", \"a\", \"c\"])\n",
        "ser_a + ser_b  # +, -, /, *"
      ]
    },
    {
      "cell_type": "markdown",
      "id": "2dfc9af7",
      "metadata": {
        "id": "2dfc9af7"
      },
      "source": [
        "## Doing some aggregation"
      ]
    },
    {
      "cell_type": "code",
      "execution_count": null,
      "id": "b2c64c8e",
      "metadata": {
        "colab": {
          "base_uri": "https://localhost:8080/"
        },
        "id": "b2c64c8e",
        "outputId": "f34e8487-ac46-416f-a5e4-bd79c94e101a"
      },
      "outputs": [
        {
          "data": {
            "text/plain": [
              "np.int64(4)"
            ]
          },
          "execution_count": 9,
          "metadata": {},
          "output_type": "execute_result"
        }
      ],
      "source": [
        "ser_c = df[\"a\"]\n",
        "ser_c.count()  # => 5\n",
        "ser_c.sum()    # => 10\n",
        "ser_c.mean()   # => 2.0\n",
        "ser_c.max()    # => 4\n",
        "ser_c.min()    # => 0\n",
        "ser_c.idxmax() # => 4"
      ]
    },
    {
      "cell_type": "code",
      "execution_count": null,
      "id": "4f74f58d-d995-49d8-ae68-6e3ce7fe6d0e",
      "metadata": {
        "id": "4f74f58d-d995-49d8-ae68-6e3ce7fe6d0e",
        "outputId": "e103511b-c049-44e4-e494-e0256500b82d"
      },
      "outputs": [
        {
          "data": {
            "text/html": [
              "<div>\n",
              "<style scoped>\n",
              "    .dataframe tbody tr th:only-of-type {\n",
              "        vertical-align: middle;\n",
              "    }\n",
              "\n",
              "    .dataframe tbody tr th {\n",
              "        vertical-align: top;\n",
              "    }\n",
              "\n",
              "    .dataframe thead tr th {\n",
              "        text-align: left;\n",
              "    }\n",
              "\n",
              "    .dataframe thead tr:last-of-type th {\n",
              "        text-align: right;\n",
              "    }\n",
              "</style>\n",
              "<table border=\"1\" class=\"dataframe\">\n",
              "  <thead>\n",
              "    <tr>\n",
              "      <th></th>\n",
              "      <th colspan=\"2\" halign=\"left\">b</th>\n",
              "      <th colspan=\"2\" halign=\"left\">c</th>\n",
              "      <th colspan=\"2\" halign=\"left\">d</th>\n",
              "      <th colspan=\"2\" halign=\"left\">e</th>\n",
              "      <th colspan=\"2\" halign=\"left\">f</th>\n",
              "      <th colspan=\"2\" halign=\"left\">g</th>\n",
              "      <th colspan=\"2\" halign=\"left\">h</th>\n",
              "      <th colspan=\"2\" halign=\"left\">i</th>\n",
              "      <th colspan=\"2\" halign=\"left\">j</th>\n",
              "      <th colspan=\"2\" halign=\"left\">k</th>\n",
              "    </tr>\n",
              "    <tr>\n",
              "      <th></th>\n",
              "      <th>min</th>\n",
              "      <th>max</th>\n",
              "      <th>min</th>\n",
              "      <th>max</th>\n",
              "      <th>min</th>\n",
              "      <th>max</th>\n",
              "      <th>min</th>\n",
              "      <th>max</th>\n",
              "      <th>min</th>\n",
              "      <th>max</th>\n",
              "      <th>min</th>\n",
              "      <th>max</th>\n",
              "      <th>min</th>\n",
              "      <th>max</th>\n",
              "      <th>min</th>\n",
              "      <th>max</th>\n",
              "      <th>min</th>\n",
              "      <th>max</th>\n",
              "      <th>min</th>\n",
              "      <th>max</th>\n",
              "    </tr>\n",
              "    <tr>\n",
              "      <th>a</th>\n",
              "      <th></th>\n",
              "      <th></th>\n",
              "      <th></th>\n",
              "      <th></th>\n",
              "      <th></th>\n",
              "      <th></th>\n",
              "      <th></th>\n",
              "      <th></th>\n",
              "      <th></th>\n",
              "      <th></th>\n",
              "      <th></th>\n",
              "      <th></th>\n",
              "      <th></th>\n",
              "      <th></th>\n",
              "      <th></th>\n",
              "      <th></th>\n",
              "      <th></th>\n",
              "      <th></th>\n",
              "      <th></th>\n",
              "      <th></th>\n",
              "    </tr>\n",
              "  </thead>\n",
              "  <tbody>\n",
              "    <tr>\n",
              "      <th>0</th>\n",
              "      <td>1</td>\n",
              "      <td>1</td>\n",
              "      <td>2</td>\n",
              "      <td>2</td>\n",
              "      <td>3</td>\n",
              "      <td>3</td>\n",
              "      <td>4</td>\n",
              "      <td>4</td>\n",
              "      <td>5</td>\n",
              "      <td>5</td>\n",
              "      <td>6</td>\n",
              "      <td>6</td>\n",
              "      <td>7</td>\n",
              "      <td>7</td>\n",
              "      <td>8</td>\n",
              "      <td>8</td>\n",
              "      <td>9</td>\n",
              "      <td>9</td>\n",
              "      <td>0</td>\n",
              "      <td>0</td>\n",
              "    </tr>\n",
              "    <tr>\n",
              "      <th>1</th>\n",
              "      <td>2</td>\n",
              "      <td>2</td>\n",
              "      <td>3</td>\n",
              "      <td>3</td>\n",
              "      <td>4</td>\n",
              "      <td>4</td>\n",
              "      <td>5</td>\n",
              "      <td>5</td>\n",
              "      <td>6</td>\n",
              "      <td>6</td>\n",
              "      <td>7</td>\n",
              "      <td>7</td>\n",
              "      <td>8</td>\n",
              "      <td>8</td>\n",
              "      <td>9</td>\n",
              "      <td>9</td>\n",
              "      <td>10</td>\n",
              "      <td>10</td>\n",
              "      <td>2</td>\n",
              "      <td>2</td>\n",
              "    </tr>\n",
              "    <tr>\n",
              "      <th>2</th>\n",
              "      <td>3</td>\n",
              "      <td>3</td>\n",
              "      <td>4</td>\n",
              "      <td>4</td>\n",
              "      <td>5</td>\n",
              "      <td>5</td>\n",
              "      <td>6</td>\n",
              "      <td>6</td>\n",
              "      <td>7</td>\n",
              "      <td>7</td>\n",
              "      <td>8</td>\n",
              "      <td>8</td>\n",
              "      <td>9</td>\n",
              "      <td>9</td>\n",
              "      <td>10</td>\n",
              "      <td>10</td>\n",
              "      <td>11</td>\n",
              "      <td>11</td>\n",
              "      <td>6</td>\n",
              "      <td>6</td>\n",
              "    </tr>\n",
              "    <tr>\n",
              "      <th>3</th>\n",
              "      <td>4</td>\n",
              "      <td>4</td>\n",
              "      <td>5</td>\n",
              "      <td>5</td>\n",
              "      <td>6</td>\n",
              "      <td>6</td>\n",
              "      <td>7</td>\n",
              "      <td>7</td>\n",
              "      <td>8</td>\n",
              "      <td>8</td>\n",
              "      <td>9</td>\n",
              "      <td>9</td>\n",
              "      <td>10</td>\n",
              "      <td>10</td>\n",
              "      <td>11</td>\n",
              "      <td>11</td>\n",
              "      <td>12</td>\n",
              "      <td>12</td>\n",
              "      <td>12</td>\n",
              "      <td>12</td>\n",
              "    </tr>\n",
              "    <tr>\n",
              "      <th>4</th>\n",
              "      <td>5</td>\n",
              "      <td>5</td>\n",
              "      <td>6</td>\n",
              "      <td>6</td>\n",
              "      <td>7</td>\n",
              "      <td>7</td>\n",
              "      <td>8</td>\n",
              "      <td>8</td>\n",
              "      <td>9</td>\n",
              "      <td>9</td>\n",
              "      <td>10</td>\n",
              "      <td>10</td>\n",
              "      <td>11</td>\n",
              "      <td>11</td>\n",
              "      <td>12</td>\n",
              "      <td>12</td>\n",
              "      <td>13</td>\n",
              "      <td>13</td>\n",
              "      <td>20</td>\n",
              "      <td>20</td>\n",
              "    </tr>\n",
              "  </tbody>\n",
              "</table>\n",
              "</div>"
            ],
            "text/plain": [
              "    b       c       d       e       f       g       h       i       j       k  \\\n",
              "  min max min max min max min max min max min max min max min max min max min   \n",
              "a                                                                               \n",
              "0   1   1   2   2   3   3   4   4   5   5   6   6   7   7   8   8   9   9   0   \n",
              "1   2   2   3   3   4   4   5   5   6   6   7   7   8   8   9   9  10  10   2   \n",
              "2   3   3   4   4   5   5   6   6   7   7   8   8   9   9  10  10  11  11   6   \n",
              "3   4   4   5   5   6   6   7   7   8   8   9   9  10  10  11  11  12  12  12   \n",
              "4   5   5   6   6   7   7   8   8   9   9  10  10  11  11  12  12  13  13  20   \n",
              "\n",
              "       \n",
              "  max  \n",
              "a      \n",
              "0   0  \n",
              "1   2  \n",
              "2   6  \n",
              "3  12  \n",
              "4  20  "
            ]
          },
          "execution_count": 10,
          "metadata": {},
          "output_type": "execute_result"
        }
      ],
      "source": [
        "df.groupby(['a']).agg(['min', 'max'])"
      ]
    },
    {
      "cell_type": "markdown",
      "id": "Q_WCATTfeZAk",
      "metadata": {
        "id": "Q_WCATTfeZAk"
      },
      "source": [
        "# Business and Data Understanding"
      ]
    },
    {
      "cell_type": "markdown",
      "id": "be16b6b0",
      "metadata": {
        "id": "be16b6b0"
      },
      "source": [
        "## Understanding data types\n",
        "\n",
        "\"It is imperative to know the attribute properties to carry out meaningful operations and research with them\"\n",
        "\n",
        "- Why is data type important?\n",
        "- What are the implications of a data type?"
      ]
    },
    {
      "cell_type": "markdown",
      "id": "3bac7b24",
      "metadata": {
        "id": "3bac7b24"
      },
      "source": [
        "![Y2K22 bug](https://user-images.githubusercontent.com/18005592/232748093-a25e8ba7-24d4-4e2b-9e58-1553786cac33.png)\n"
      ]
    },
    {
      "cell_type": "markdown",
      "id": "8a378353",
      "metadata": {
        "id": "8a378353",
        "jp-MarkdownHeadingCollapsed": true
      },
      "source": [
        "## Encoding data with the wrong type\n",
        "\n",
        "Encoding the date 2022-01-01T00:01 into a signed integer $2201010001$\n",
        "\n",
        "A signed integer is a 32-bit datum that represents an integer in the range:\n",
        "\n",
        "- Valid range: $[-2^{31}, 2^{31}-1] = [-2147483648, 2147483647]$\n",
        "- However, $2201010001 > 2147483647$\n",
        "\n",
        "See also the [year 2000 problem](https://en.wikipedia.org/wiki/Year_2000_problem)\n",
        "\n",
        "![Y2K](https://upload.wikimedia.org/wikipedia/commons/f/fb/Bug_de_l%27an_2000.jpg)\n"
      ]
    },
    {
      "cell_type": "markdown",
      "id": "5299b4b8",
      "metadata": {
        "id": "5299b4b8"
      },
      "source": [
        "## Type inference\n",
        "\n",
        "Pandas automatically infers data types, or they can be specified during creation\n",
        "\n",
        "- `np.floatN` represents floating numbers (e.g., -3.14)\n",
        "- `np.intN`/`np.uintN` represent integers with/without sign (e.g., -42 and 42)\n",
        "    - `N` is the number of needed bits: 8, 16, 32 o 64\n",
        "- `bool`: Boolean values\n",
        "- `datetime64`, timedelta64: timestamp and time intervals\n",
        "- `object`: mainly used for strings"
      ]
    },
    {
      "cell_type": "code",
      "execution_count": null,
      "id": "7d53489b",
      "metadata": {
        "colab": {
          "base_uri": "https://localhost:8080/",
          "height": 206
        },
        "id": "7d53489b",
        "outputId": "97c41b58-041b-4538-c9de-d8315c66f7cd"
      },
      "outputs": [
        {
          "data": {
            "text/plain": [
              "ID           object\n",
              "PriceBin     object\n",
              "Date         object\n",
              "Quantity    float64\n",
              "Review        int64\n",
              "dtype: object"
            ]
          },
          "execution_count": 11,
          "metadata": {},
          "output_type": "execute_result"
        }
      ],
      "source": [
        "df = pd.DataFrame([\n",
        "    ['Cola',   'low',    '05/07/2021', 10, 2],\n",
        "    ['Bread',  'medium', '05/07/2021', 25, 1],\n",
        "    ['Beer',   'high',   '06/07/2021', 100, 3],\n",
        "    ['Diaper', 'high',   '06/07/2021', np.nan, 4],\n",
        "    ['Pizza',  'medium', '06/07/2021', 25, 5]], columns=['ID', 'PriceBin', 'Date', 'Quantity', 'Review'])\n",
        "df.dtypes"
      ]
    },
    {
      "cell_type": "markdown",
      "id": "b9cc984c",
      "metadata": {
        "id": "b9cc984c"
      },
      "source": [
        "## Attribute types\n",
        "\n",
        "The attribute type determines which operator can be applied to the attribute\n",
        "\n",
        "- Equality, sort, sum, ratio, etc.\n",
        "- It makes sense to compute the average `Quantity` but not the average `ID`"
      ]
    },
    {
      "cell_type": "markdown",
      "id": "fb2ef244",
      "metadata": {
        "id": "fb2ef244"
      },
      "source": [
        "Different attribute types\n",
        "\n",
        "- (Categorical) **Nominal**: can distinguish the values (i.e., check equality)\n",
        "- (Categorical) **Ordinal**: can distinguish and sort the values\n",
        "- (Numeric) **Interval**: can distinguish and sort the values, and compute their difference\n",
        "- (Numeric) **Ratio**: can distinguish and sort the values, and compute their difference and ratio"
      ]
    },
    {
      "cell_type": "markdown",
      "id": "b09d91ce",
      "metadata": {
        "id": "b09d91ce"
      },
      "source": [
        "## The Likert scale\n",
        "\n",
        "- `[*, **, ***, ****, *****]`\n",
        "- `[1, 2, 3, 4, 5]`\n",
        "\n",
        "What about averaging?"
      ]
    },
    {
      "cell_type": "markdown",
      "id": "3512dc00",
      "metadata": {
        "id": "3512dc00"
      },
      "source": [
        "## The Likert scale\n",
        "\n",
        "    Converting responses to a Likert-type question into an average seems an obvious and intuitive step, but it doesn't necessarily constitute good methodology. One important point is that respondents are often reluctant to express a strong opinion and may distort the results by gravitating to the neutral midpoint response. It also assumes that the emotional distance between mild agreement or disagreement and strong agreement or disagreement is the same, which isn't necessarily the case. At its most fundamental level, the problem is that the numbers in a Likert scale are not numbers as such, but a means of ranking responses.\n",
        "    \n",
        "The Likert scale is widely used in social work research, and is commonly constructed with four to seven points. It is usually treated as an interval scale, but strictly speaking it is an ordinal scale, where arithmetic operations cannot be conducted [1]\n",
        "\n",
        "[1] Wu, Huiping, and Shing-On Leung. \"Can Likert scales be treated as interval scales?—A simulation study.\" Journal of social service research 43.4 (2017): 527-532."
      ]
    },
    {
      "cell_type": "markdown",
      "id": "16e96a6f-1508-44d5-ae84-74297b6df682",
      "metadata": {
        "id": "16e96a6f-1508-44d5-ae84-74297b6df682"
      },
      "source": [
        "## Data profiling"
      ]
    },
    {
      "cell_type": "code",
      "execution_count": null,
      "id": "4d3c26ed",
      "metadata": {
        "colab": {
          "base_uri": "https://localhost:8080/"
        },
        "id": "4d3c26ed",
        "outputId": "4ab0845e-47d5-40e1-f72e-bb8ca33e95f7"
      },
      "outputs": [
        {
          "name": "stdout",
          "output_type": "stream",
          "text": [
            "<class 'pandas.core.frame.DataFrame'>\n",
            "RangeIndex: 5 entries, 0 to 4\n",
            "Data columns (total 5 columns):\n",
            " #   Column    Non-Null Count  Dtype  \n",
            "---  ------    --------------  -----  \n",
            " 0   ID        5 non-null      object \n",
            " 1   PriceBin  5 non-null      object \n",
            " 2   Date      5 non-null      object \n",
            " 3   Quantity  4 non-null      float64\n",
            " 4   Review    5 non-null      int64  \n",
            "dtypes: float64(1), int64(1), object(3)\n",
            "memory usage: 332.0+ bytes\n"
          ]
        }
      ],
      "source": [
        "df.info()"
      ]
    },
    {
      "cell_type": "markdown",
      "id": "8101c348-aa70-4156-bf66-33d11ef3f930",
      "metadata": {
        "id": "8101c348-aa70-4156-bf66-33d11ef3f930"
      },
      "source": [
        "## Data profiling"
      ]
    },
    {
      "cell_type": "code",
      "execution_count": null,
      "id": "4061127e",
      "metadata": {
        "colab": {
          "base_uri": "https://localhost:8080/",
          "height": 394
        },
        "id": "4061127e",
        "outputId": "b0361495-a3ad-4caf-a648-ff76fcc16a61"
      },
      "outputs": [
        {
          "data": {
            "text/html": [
              "<div>\n",
              "<style scoped>\n",
              "    .dataframe tbody tr th:only-of-type {\n",
              "        vertical-align: middle;\n",
              "    }\n",
              "\n",
              "    .dataframe tbody tr th {\n",
              "        vertical-align: top;\n",
              "    }\n",
              "\n",
              "    .dataframe thead th {\n",
              "        text-align: right;\n",
              "    }\n",
              "</style>\n",
              "<table border=\"1\" class=\"dataframe\">\n",
              "  <thead>\n",
              "    <tr style=\"text-align: right;\">\n",
              "      <th></th>\n",
              "      <th>ID</th>\n",
              "      <th>PriceBin</th>\n",
              "      <th>Date</th>\n",
              "      <th>Quantity</th>\n",
              "      <th>Review</th>\n",
              "    </tr>\n",
              "  </thead>\n",
              "  <tbody>\n",
              "    <tr>\n",
              "      <th>count</th>\n",
              "      <td>5</td>\n",
              "      <td>5</td>\n",
              "      <td>5</td>\n",
              "      <td>4.000000</td>\n",
              "      <td>5.000000</td>\n",
              "    </tr>\n",
              "    <tr>\n",
              "      <th>unique</th>\n",
              "      <td>5</td>\n",
              "      <td>3</td>\n",
              "      <td>2</td>\n",
              "      <td>NaN</td>\n",
              "      <td>NaN</td>\n",
              "    </tr>\n",
              "    <tr>\n",
              "      <th>top</th>\n",
              "      <td>Cola</td>\n",
              "      <td>medium</td>\n",
              "      <td>06/07/2021</td>\n",
              "      <td>NaN</td>\n",
              "      <td>NaN</td>\n",
              "    </tr>\n",
              "    <tr>\n",
              "      <th>freq</th>\n",
              "      <td>1</td>\n",
              "      <td>2</td>\n",
              "      <td>3</td>\n",
              "      <td>NaN</td>\n",
              "      <td>NaN</td>\n",
              "    </tr>\n",
              "    <tr>\n",
              "      <th>mean</th>\n",
              "      <td>NaN</td>\n",
              "      <td>NaN</td>\n",
              "      <td>NaN</td>\n",
              "      <td>40.000000</td>\n",
              "      <td>3.000000</td>\n",
              "    </tr>\n",
              "    <tr>\n",
              "      <th>std</th>\n",
              "      <td>NaN</td>\n",
              "      <td>NaN</td>\n",
              "      <td>NaN</td>\n",
              "      <td>40.620192</td>\n",
              "      <td>1.581139</td>\n",
              "    </tr>\n",
              "    <tr>\n",
              "      <th>min</th>\n",
              "      <td>NaN</td>\n",
              "      <td>NaN</td>\n",
              "      <td>NaN</td>\n",
              "      <td>10.000000</td>\n",
              "      <td>1.000000</td>\n",
              "    </tr>\n",
              "    <tr>\n",
              "      <th>25%</th>\n",
              "      <td>NaN</td>\n",
              "      <td>NaN</td>\n",
              "      <td>NaN</td>\n",
              "      <td>21.250000</td>\n",
              "      <td>2.000000</td>\n",
              "    </tr>\n",
              "    <tr>\n",
              "      <th>50%</th>\n",
              "      <td>NaN</td>\n",
              "      <td>NaN</td>\n",
              "      <td>NaN</td>\n",
              "      <td>25.000000</td>\n",
              "      <td>3.000000</td>\n",
              "    </tr>\n",
              "    <tr>\n",
              "      <th>75%</th>\n",
              "      <td>NaN</td>\n",
              "      <td>NaN</td>\n",
              "      <td>NaN</td>\n",
              "      <td>43.750000</td>\n",
              "      <td>4.000000</td>\n",
              "    </tr>\n",
              "    <tr>\n",
              "      <th>max</th>\n",
              "      <td>NaN</td>\n",
              "      <td>NaN</td>\n",
              "      <td>NaN</td>\n",
              "      <td>100.000000</td>\n",
              "      <td>5.000000</td>\n",
              "    </tr>\n",
              "  </tbody>\n",
              "</table>\n",
              "</div>"
            ],
            "text/plain": [
              "          ID PriceBin        Date    Quantity    Review\n",
              "count      5        5           5    4.000000  5.000000\n",
              "unique     5        3           2         NaN       NaN\n",
              "top     Cola   medium  06/07/2021         NaN       NaN\n",
              "freq       1        2           3         NaN       NaN\n",
              "mean     NaN      NaN         NaN   40.000000  3.000000\n",
              "std      NaN      NaN         NaN   40.620192  1.581139\n",
              "min      NaN      NaN         NaN   10.000000  1.000000\n",
              "25%      NaN      NaN         NaN   21.250000  2.000000\n",
              "50%      NaN      NaN         NaN   25.000000  3.000000\n",
              "75%      NaN      NaN         NaN   43.750000  4.000000\n",
              "max      NaN      NaN         NaN  100.000000  5.000000"
            ]
          },
          "execution_count": 13,
          "metadata": {},
          "output_type": "execute_result"
        }
      ],
      "source": [
        "# To get some statistics (e.g., count, mean, std, min, etc.)\n",
        "df.describe(include='all')"
      ]
    }
  ],
  "metadata": {
    "celltoolbar": "Slideshow",
    "colab": {
      "provenance": [],
      "include_colab_link": true
    },
    "kernelspec": {
      "display_name": "Python 3 (ipykernel)",
      "language": "python",
      "name": "python3"
    },
    "language_info": {
      "codemirror_mode": {
        "name": "ipython",
        "version": 3
      },
      "file_extension": ".py",
      "mimetype": "text/x-python",
      "name": "python",
      "nbconvert_exporter": "python",
      "pygments_lexer": "ipython3",
      "version": "3.11.9"
    }
  },
  "nbformat": 4,
  "nbformat_minor": 5
}