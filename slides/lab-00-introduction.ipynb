{
  "cells": [
    {
      "cell_type": "markdown",
      "metadata": {
        "id": "view-in-github",
        "colab_type": "text"
      },
      "source": [
        "<a href=\"https://colab.research.google.com/github/w4bo/AA2425-unibo-mldm/blob/master/slides/lab-00-introduction.ipynb\" target=\"_parent\"><img src=\"https://colab.research.google.com/assets/colab-badge.svg\" alt=\"Open In Colab\"/></a>"
      ]
    },
    {
      "cell_type": "markdown",
      "metadata": {
        "id": "VaTYWpBnXs-I"
      },
      "source": [
        "# **Opening a file and read the content**\n",
        "In this block, we learn how to open a file with Python and how to read the content.\n",
        "\n",
        "**It is absolutely recommended to read the documentation relating to the functions and methods used!**\n",
        "Usually, it is sufficient type on Google the name of the function (and eventually the name of the library used).\n",
        "\n"
      ]
    },
    {
      "cell_type": "markdown",
      "metadata": {
        "id": "Fdjrwg0N-36p"
      },
      "source": [
        "### Locate the file we want to use.\n",
        "The file is `shapes.txt`: this is the file of the dataset that we are going to use in our exercises.\n",
        "\n",
        "There are two options to use the file in a Colab project:\n",
        "- Upload the file through the Colab GUI (temporary upload!);\n",
        "- Upload the file on your Google Drive (you have to use the same Google account that you use with Colab)). Then, it is necessary to mount the drive in your Colab machine (use the \"Mount Drive\" button.);\n",
        "- Use the following code snippet\n",
        "<br>\n"
      ]
    },
    {
      "cell_type": "code",
      "execution_count": null,
      "metadata": {
        "id": "AozF-BXlGOTA"
      },
      "outputs": [],
      "source": [
        "from google.colab import files\n",
        "uploaded = files.upload()"
      ]
    },
    {
      "cell_type": "markdown",
      "metadata": {
        "id": "RDH0hW6Vwx-W"
      },
      "source": [
        "The default upload location of the file is in `/content`in the Google virtual machine."
      ]
    },
    {
      "cell_type": "code",
      "execution_count": null,
      "metadata": {
        "id": "e4QKh5FL6hn7"
      },
      "outputs": [],
      "source": [
        "file_path = '/content/shapes.txt' # equivalent to: 'shapes.txt'"
      ]
    },
    {
      "cell_type": "markdown",
      "metadata": {
        "id": "F7D93e5M6cqS"
      },
      "source": [
        "### First way to open a file\n",
        "Remember to close the file once read!\n",
        "<br>\n",
        "**Tools**:\n",
        "\n",
        "* `open(<path>, <mode>)`: open the file located in the `path`, for reading, writing, ect. depending by the `mode`."
      ]
    },
    {
      "cell_type": "code",
      "execution_count": null,
      "metadata": {
        "id": "Bic2ENrvXhqI"
      },
      "outputs": [],
      "source": [
        "f = open(file_path, 'r')\n",
        "lines = f.readlines()\n",
        "f.close()\n",
        "print('Read {} lines'.format(len(lines)))"
      ]
    },
    {
      "cell_type": "markdown",
      "metadata": {
        "id": "CKTh0ir86mNS"
      },
      "source": [
        "### Second way to open a file\n",
        "In this case, the file is auotomatically closed."
      ]
    },
    {
      "cell_type": "code",
      "execution_count": null,
      "metadata": {
        "id": "9w_qIc816n6m"
      },
      "outputs": [],
      "source": [
        "with open(file_path, 'r') as f:\n",
        "    lines = f.readlines()\n",
        "print('Read {} lines'.format(len(lines)))"
      ]
    },
    {
      "cell_type": "markdown",
      "metadata": {
        "id": "FgDkO7br7AzH"
      },
      "source": [
        "# **File content processing**\n",
        "In this block, we learn how to process the content of a file."
      ]
    },
    {
      "cell_type": "markdown",
      "metadata": {
        "id": "zt74aKE_7XT4"
      },
      "source": [
        "### Read the first two lines\n",
        "Note that each line has the following format: `image_name` `coordinates`.\n",
        "Coordinates are organized as follows: $p^1_x \\quad p^1_y \\quad p^2_x \\quad p^2_y \\quad ... \\quad p^n_x \\quad p^n_x$,  $\\quad 3 \\leq n \\leq 4$, since we have the classes:\n",
        "\n",
        "*   Triangle\n",
        "*   Rectangle\n",
        "*   Square\n",
        "*   Rhombus\n",
        "\n",
        "Example: `0_triangle.png 114 221 152 189 223 30`  \n",
        "\n",
        "**Tools**:\n",
        "- `strip()`: removes both the leading and the trailing characters.\n",
        "- `split()`: breaks up a string at the specified separator and returns a list of strings.\n",
        "- Slicing: `list[start:stop:step]`\n",
        "\n",
        "Examples:\n",
        "\n",
        "*   `a[start:stop]  # items start through stop-1`\n",
        "*   `a[start:]      # items start through the rest of the array`\n",
        "*   `a[:stop]       # items from the beginning through stop-1`\n",
        "*   `a[:]           # a copy of the whole array`\n",
        "*   `a[-1]    # last item in the array`\n",
        "*   `a[-2:]   # last two items in the array`\n",
        "*   `a[:-2]   # everything except the last two items`\n",
        "*    `a[::-1]    # all items in the array, reversed`"
      ]
    },
    {
      "cell_type": "code",
      "execution_count": null,
      "metadata": {
        "id": "AkjpEdlL7J7b"
      },
      "outputs": [],
      "source": [
        "for line in lines[:2]:\n",
        "\n",
        "    print(\"Raw content:\", line)\n",
        "\n",
        "    content = line.strip()\n",
        "    print(\"Content after strip:\", content)\n",
        "\n",
        "    content = content.split(' ')\n",
        "    print(\"Content after split:\", content)\n",
        "\n",
        "    # now the content is a list with the splitted elements\n",
        "    image_name = content[0]   # the image name is in the first position\n",
        "    coordinates = content[1:] # coordinates in the following part\n",
        "\n",
        "    # print the content\n",
        "    print('Name:', image_name, 'Coords:', coordinates)\n",
        "    print('---')"
      ]
    },
    {
      "cell_type": "markdown",
      "metadata": {
        "id": "XRi9VA5U-OEC"
      },
      "source": [
        "Note that the element in the list are strings. We must convert these strings in integers (`int`). These integers are then saved in a list.\n",
        "\n",
        "**Tools**:\n",
        "- List comprehension: `[expression for item in list]`"
      ]
    },
    {
      "cell_type": "code",
      "execution_count": null,
      "metadata": {
        "id": "2w3TPSIP7Op7"
      },
      "outputs": [],
      "source": [
        "print('Type of the coordinates:', type(coordinates[0]))\n",
        "coordinates = [int(x) for x in coordinates]\n",
        "print('Name:', image_name, 'Coords:', coordinates)\n",
        "print('Type of the coordinates:', type(coordinates[0]))"
      ]
    },
    {
      "cell_type": "markdown",
      "metadata": {
        "id": "OQlZB3AKNbdB"
      },
      "source": [
        "### Exercise\n",
        "Read the content of the file `shapes.txt` and **accumulate** the image names and coordinates (integers) in two different lists, named `image_names` and `shape_coordinates`. Output the final length of the two lists."
      ]
    },
    {
      "cell_type": "code",
      "execution_count": null,
      "metadata": {
        "id": "W4tkbP8yITed"
      },
      "outputs": [],
      "source": [
        "# write the code here"
      ]
    },
    {
      "cell_type": "markdown",
      "metadata": {
        "id": "yl9HBDnG_AuX"
      },
      "source": [
        "# **Understanding the directory organization of the dataset**"
      ]
    },
    {
      "cell_type": "markdown",
      "metadata": {
        "id": "ajZO06EoM5ZR"
      },
      "source": [
        "We will use the directory of the dataset that we are going to use in our exercises.\n",
        "\n",
        "Also in that case, we have many options to upload the content:\n",
        "\n",
        "1.   Upload the `.zip` file containing the *Euclid* dataset from the left panel (first icon on the top bar)\n",
        "\n",
        "2.   Unzip the file using the following comand. Dataset folders will appear in `/content/sample_data`"
      ]
    },
    {
      "cell_type": "code",
      "execution_count": null,
      "metadata": {
        "id": "EkXgqjmi2wn9"
      },
      "outputs": [],
      "source": [
        "!unzip -q Euclid_dataset.zip -d /content/dataset"
      ]
    },
    {
      "cell_type": "markdown",
      "metadata": {
        "id": "3aDzFK402xyE"
      },
      "source": [
        "A new folder is in your virtual machine (click the \"Reload\" icon if you do not see it).\n",
        "\n",
        "You can directly upload the dataset folder on your Google Drive account (you may have mounted the Drive before)."
      ]
    },
    {
      "cell_type": "markdown",
      "metadata": {
        "id": "-Zw7CIp1N8OL"
      },
      "source": [
        "Let's define the path of the dataset"
      ]
    },
    {
      "cell_type": "code",
      "execution_count": null,
      "metadata": {
        "id": "i-Cf96H9Dz2F"
      },
      "outputs": [],
      "source": [
        "dataset_path = '/content/dataset/Euclid_dataset' # /content/driver/... if the dataset is in the Drive folder"
      ]
    },
    {
      "cell_type": "markdown",
      "metadata": {
        "id": "Cur03JY4ABZv"
      },
      "source": [
        "### Count the number of images in each dataset folder\n",
        "\n",
        "**Tools**:\n",
        "\n",
        "- `glob(<pathname>)`: return a possibly-empty list of path names that match pathname. You can also use wildcards (`*`,` ?`, `[ranges]`) apart from exact string search to make path retrieval more simple and convenient.\n",
        "- `os.path.join`: join one or more path components\n",
        "\n"
      ]
    },
    {
      "cell_type": "markdown",
      "metadata": {
        "id": "Lw9GmuqZNFjY"
      },
      "source": [
        "Example of the `join` command."
      ]
    },
    {
      "cell_type": "code",
      "execution_count": null,
      "metadata": {
        "id": "w1ZrJoLZDWS-"
      },
      "outputs": [],
      "source": [
        "from os.path import join\n",
        "s1 = 'path1'\n",
        "s2 = 'path2'\n",
        "s3 = 'path3'\n",
        "print('Final path:', join(s1, s2, s3))"
      ]
    },
    {
      "cell_type": "markdown",
      "metadata": {
        "id": "SXboOdIYNKD3"
      },
      "source": [
        "Example of the `glob` command"
      ]
    },
    {
      "cell_type": "code",
      "execution_count": null,
      "metadata": {
        "id": "11fSMrAgDvNS"
      },
      "outputs": [],
      "source": [
        "from glob import glob\n",
        "# we list the directories inside the dataset main directory\n",
        "elements = glob(join(dataset_path, '*'))\n",
        "print(len(elements), elements)\n"
      ]
    },
    {
      "cell_type": "markdown",
      "metadata": {
        "id": "a4Kctnb-NQ8v"
      },
      "source": [
        "Now, we are ready to count the number of images in each folder of the dataset."
      ]
    },
    {
      "cell_type": "code",
      "execution_count": null,
      "metadata": {
        "id": "Exr2ACT0-tN9"
      },
      "outputs": [],
      "source": [
        "shapes = ['triangle', 'rectangle', 'square', 'rhombus']\n",
        "for shape in shapes:\n",
        "    images = glob(join(dataset_path, shape, '*.png'))\n",
        "    print('Total amount of {}: \\t {}'.format(shape, len(images)))"
      ]
    },
    {
      "cell_type": "markdown",
      "metadata": {
        "id": "K_Y3AjNJNW41"
      },
      "source": [
        "Let's compute the total amount of images."
      ]
    },
    {
      "cell_type": "code",
      "execution_count": null,
      "metadata": {
        "id": "hg18sQmmEhNs"
      },
      "outputs": [],
      "source": [
        "images = glob(join(dataset_path, '*', '*.png'))\n",
        "print('Total amount of images: {}'.format(len(images)))\n",
        "print('List of images:', sorted(images))"
      ]
    },
    {
      "cell_type": "markdown",
      "metadata": {
        "id": "wVQ7lo_QVX5s"
      },
      "source": [
        "### Exercise\n",
        "For each element of the Euclid dataset, compute:\n",
        "\n",
        "*   **Perimeter**\n",
        "*   **Area**\n",
        "*   **Centroid** (barycenter)\n",
        "\n",
        "Save the results in a `results.txt` file. Each line of the file must correspond to the same line of the `shape.txt` file and must follows this format:\n",
        "\n",
        "`<perimeter> <area> <(x,y)>`\n",
        "\n",
        "Example:\n",
        "423 433.5 (234,456)"
      ]
    },
    {
      "cell_type": "code",
      "execution_count": null,
      "metadata": {
        "id": "sY7tN8viS5Wa"
      },
      "outputs": [],
      "source": [
        "# write the code here"
      ]
    }
  ],
  "metadata": {
    "colab": {
      "provenance": [],
      "toc_visible": true,
      "include_colab_link": true
    },
    "kernelspec": {
      "display_name": "Python 3 (ipykernel)",
      "language": "python",
      "name": "python3"
    },
    "language_info": {
      "codemirror_mode": {
        "name": "ipython",
        "version": 3
      },
      "file_extension": ".py",
      "mimetype": "text/x-python",
      "name": "python",
      "nbconvert_exporter": "python",
      "pygments_lexer": "ipython3",
      "version": "3.11.3"
    }
  },
  "nbformat": 4,
  "nbformat_minor": 0
}