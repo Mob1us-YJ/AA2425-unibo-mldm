{
 "cells": [
  {
   "cell_type": "markdown",
   "metadata": {
    "colab_type": "text",
    "id": "view-in-github"
   },
   "source": [
    "<a href=\"https://colab.research.google.com/github/w4bo/AA2425-unibo-mldm/blob/master/slides/lab-00-introduction.ipynb\" target=\"_parent\"><img src=\"https://colab.research.google.com/assets/colab-badge.svg\" alt=\"Open In Colab\"/></a>"
   ]
  },
  {
   "cell_type": "markdown",
   "metadata": {
    "id": "VaTYWpBnXs-I"
   },
   "source": [
    "# Lab 00 - Introduction\n",
    "\n",
    "\n",
    "- **It is absolutely recommended to read the documentation relating to the functions and methods used!**\n",
    "- Usually, it is sufficient type on Google the name of the function (and eventually the name of the library used).\n",
    "\n"
   ]
  },
  {
   "cell_type": "markdown",
   "metadata": {
    "id": "Fdjrwg0N-36p"
   },
   "source": [
    "## Locating the data\n",
    "\n",
    "These are main options to use files/datasets in a Colab project:\n",
    "\n",
    "1. Use the existing data in the `/content/sample_data/` folder\n",
    "2. Upload a new dataset (as file)\n",
    "  - Upload the file through the Colab GUI (temporary upload!);\n",
    "  - Upload the file on your Google Drive (you have to use the same Google account that you use with Colab)). Then, it is necessary to mount the drive in your Colab machine (use the \"Mount Drive\" button.);\n",
    "  - Use the following code snippet, file are uploaded to `/content/<file_name>`\n",
    "3. Use existing datasets from the web\n"
   ]
  },
  {
   "cell_type": "markdown",
   "metadata": {
    "id": "TrFuawlDUo6a"
   },
   "source": [
    "## Read the existing data\n",
    "\n",
    "`open(<path>, <mode>)`: open the file located in the `path`, for reading, writing, ect. depending by the `mode`.\n"
   ]
  },
  {
   "cell_type": "code",
   "execution_count": 1,
   "metadata": {
    "colab": {
     "base_uri": "https://localhost:8080/"
    },
    "id": "Ox8U-ggRUP3C",
    "outputId": "9c000d7e-8e00-4eb9-801a-aae7d421f514"
   },
   "outputs": [
    {
     "ename": "FileNotFoundError",
     "evalue": "[Errno 2] No such file or directory: '/content/sample_data/california_housing_train.csv'",
     "output_type": "error",
     "traceback": [
      "\u001b[1;31m---------------------------------------------------------------------------\u001b[0m",
      "\u001b[1;31mFileNotFoundError\u001b[0m                         Traceback (most recent call last)",
      "Cell \u001b[1;32mIn[1], line 2\u001b[0m\n\u001b[0;32m      1\u001b[0m file_path \u001b[38;5;241m=\u001b[39m \u001b[38;5;124m'\u001b[39m\u001b[38;5;124m/content/sample_data/california_housing_train.csv\u001b[39m\u001b[38;5;124m'\u001b[39m\n\u001b[1;32m----> 2\u001b[0m \u001b[38;5;28;01mwith\u001b[39;00m \u001b[38;5;28;43mopen\u001b[39;49m\u001b[43m(\u001b[49m\u001b[43mfile_path\u001b[49m\u001b[43m,\u001b[49m\u001b[43m \u001b[49m\u001b[38;5;124;43m'\u001b[39;49m\u001b[38;5;124;43mr\u001b[39;49m\u001b[38;5;124;43m'\u001b[39;49m\u001b[43m)\u001b[49m \u001b[38;5;28;01mas\u001b[39;00m f:\n\u001b[0;32m      3\u001b[0m     lines \u001b[38;5;241m=\u001b[39m f\u001b[38;5;241m.\u001b[39mreadlines()\n\u001b[0;32m      4\u001b[0m \u001b[38;5;28mprint\u001b[39m(\u001b[38;5;124m'\u001b[39m\u001b[38;5;124mRead \u001b[39m\u001b[38;5;132;01m{}\u001b[39;00m\u001b[38;5;124m lines\u001b[39m\u001b[38;5;124m'\u001b[39m\u001b[38;5;241m.\u001b[39mformat(\u001b[38;5;28mlen\u001b[39m(lines)))\n",
      "File \u001b[1;32mD:\\OneDrive\\OneDrive - Alma Mater Studiorum Università di Bologna\\teaching-bigdata\\AA2425-unibo-mldm\\slides\\venv\\Lib\\site-packages\\IPython\\core\\interactiveshell.py:324\u001b[0m, in \u001b[0;36m_modified_open\u001b[1;34m(file, *args, **kwargs)\u001b[0m\n\u001b[0;32m    317\u001b[0m \u001b[38;5;28;01mif\u001b[39;00m file \u001b[38;5;129;01min\u001b[39;00m {\u001b[38;5;241m0\u001b[39m, \u001b[38;5;241m1\u001b[39m, \u001b[38;5;241m2\u001b[39m}:\n\u001b[0;32m    318\u001b[0m     \u001b[38;5;28;01mraise\u001b[39;00m \u001b[38;5;167;01mValueError\u001b[39;00m(\n\u001b[0;32m    319\u001b[0m         \u001b[38;5;124mf\u001b[39m\u001b[38;5;124m\"\u001b[39m\u001b[38;5;124mIPython won\u001b[39m\u001b[38;5;124m'\u001b[39m\u001b[38;5;124mt let you open fd=\u001b[39m\u001b[38;5;132;01m{\u001b[39;00mfile\u001b[38;5;132;01m}\u001b[39;00m\u001b[38;5;124m by default \u001b[39m\u001b[38;5;124m\"\u001b[39m\n\u001b[0;32m    320\u001b[0m         \u001b[38;5;124m\"\u001b[39m\u001b[38;5;124mas it is likely to crash IPython. If you know what you are doing, \u001b[39m\u001b[38;5;124m\"\u001b[39m\n\u001b[0;32m    321\u001b[0m         \u001b[38;5;124m\"\u001b[39m\u001b[38;5;124myou can use builtins\u001b[39m\u001b[38;5;124m'\u001b[39m\u001b[38;5;124m open.\u001b[39m\u001b[38;5;124m\"\u001b[39m\n\u001b[0;32m    322\u001b[0m     )\n\u001b[1;32m--> 324\u001b[0m \u001b[38;5;28;01mreturn\u001b[39;00m \u001b[43mio_open\u001b[49m\u001b[43m(\u001b[49m\u001b[43mfile\u001b[49m\u001b[43m,\u001b[49m\u001b[43m \u001b[49m\u001b[38;5;241;43m*\u001b[39;49m\u001b[43margs\u001b[49m\u001b[43m,\u001b[49m\u001b[43m \u001b[49m\u001b[38;5;241;43m*\u001b[39;49m\u001b[38;5;241;43m*\u001b[39;49m\u001b[43mkwargs\u001b[49m\u001b[43m)\u001b[49m\n",
      "\u001b[1;31mFileNotFoundError\u001b[0m: [Errno 2] No such file or directory: '/content/sample_data/california_housing_train.csv'"
     ]
    }
   ],
   "source": [
    "file_path = '/content/sample_data/california_housing_train.csv'\n",
    "with open(file_path, 'r') as f:\n",
    "    lines = f.readlines()\n",
    "print('Read {} lines'.format(len(lines)))"
   ]
  },
  {
   "cell_type": "markdown",
   "metadata": {
    "id": "M6KwinkPUuZF"
   },
   "source": [
    "## Upload new data"
   ]
  },
  {
   "cell_type": "code",
   "execution_count": null,
   "metadata": {
    "id": "AozF-BXlGOTA"
   },
   "outputs": [],
   "source": [
    "from google.colab import files\n",
    "# uploaded = files.upload()  # uncomment this line to open the prompt to upload the dataset"
   ]
  },
  {
   "cell_type": "markdown",
   "metadata": {
    "id": "9ZznBC_0U7_6"
   },
   "source": [
    "## Import data from the web"
   ]
  },
  {
   "cell_type": "code",
   "execution_count": null,
   "metadata": {
    "colab": {
     "base_uri": "https://localhost:8080/"
    },
    "id": "xhVXcbjdU_4N",
    "outputId": "0c353aa2-ceb6-450b-8539-16fa1ceae466"
   },
   "outputs": [],
   "source": [
    "# prompt: import the california housing pricedataset from kaggle into a pandas dataframe\n",
    "\n",
    "!rm -rf iris/ || true\n",
    "!rm iris.zip || true\n",
    "!wget https://archive.ics.uci.edu/static/public/53/iris.zip\n",
    "!unzip iris.zip -d iris\n",
    "\n",
    "file_path = '/content/iris/iris.data'\n",
    "with open(file_path, 'r') as f:\n",
    "    lines = f.readlines()\n",
    "print('Read {} lines'.format(len(lines)))"
   ]
  },
  {
   "cell_type": "markdown",
   "metadata": {
    "id": "fEIY4a3QWB8V"
   },
   "source": [
    "## Useful methods\n",
    "\n",
    "Tools for managing strings and lists:\n",
    "\n",
    "- `strip()`: removes both the leading and the trailing characters.\n",
    "- `split()`: breaks up a string at the specified separator and returns a list of strings.\n",
    "- List slicing: `list[start:stop:step]`\n",
    "\n",
    "Examples:\n",
    "\n",
    "*   `a[start:stop]  # items start through stop-1`\n",
    "*   `a[start:]      # items start through the rest of the array`\n",
    "*   `a[:stop]       # items from the beginning through stop-1`\n",
    "*   `a[:]           # a copy of the whole array`\n",
    "*   `a[-1]    # last item in the array`\n",
    "*   `a[-2:]   # last two items in the array`\n",
    "*   `a[:-2]   # everything except the last two items`\n",
    "*    `a[::-1]    # all items in the array, reversed`"
   ]
  },
  {
   "cell_type": "code",
   "execution_count": null,
   "metadata": {
    "colab": {
     "base_uri": "https://localhost:8080/"
    },
    "id": "kriJZ4gdV5On",
    "outputId": "906bb28e-a8ec-4450-c19d-c463d393970e"
   },
   "outputs": [],
   "source": [
    "lines[:5]"
   ]
  },
  {
   "cell_type": "markdown",
   "metadata": {},
   "source": [
    "## Iterating over the data"
   ]
  },
  {
   "cell_type": "code",
   "execution_count": null,
   "metadata": {
    "colab": {
     "base_uri": "https://localhost:8080/"
    },
    "id": "AkjpEdlL7J7b",
    "outputId": "6bae9aba-6355-4479-9d75-4d75b4f2a624"
   },
   "outputs": [],
   "source": [
    "for line in lines[:2]:\n",
    "    print(\"Raw content:\", line)\n",
    "    content = line.strip()\n",
    "    print(\"Content after strip:\", content)\n",
    "    content = content.split(',')\n",
    "    print(\"Content after split:\", content)\n",
    "    # now the content is a list with the splitted elements\n",
    "    data = content[:-2]   # the image name is in the first position\n",
    "    label = content[-1] # coordinates in the following part\n",
    "    # print the content\n",
    "    print('Data:', data, 'Label:', label)\n",
    "    print('---')"
   ]
  },
  {
   "cell_type": "markdown",
   "metadata": {
    "id": "XRi9VA5U-OEC"
   },
   "source": [
    "## Data types\n",
    "\n",
    "Note that the element in the list are strings. We must convert these strings in integers (`int`). These integers are then saved in a list.\n",
    "\n",
    "**Tools**:\n",
    "- List comprehension: `[expression for item in list]`"
   ]
  },
  {
   "cell_type": "code",
   "execution_count": null,
   "metadata": {
    "colab": {
     "base_uri": "https://localhost:8080/"
    },
    "id": "2w3TPSIP7Op7",
    "outputId": "1154864b-b6c4-4014-a8f6-8386977f73a2"
   },
   "outputs": [],
   "source": [
    "print('Type of the data:', type(data[0]))\n",
    "data = [float(x) for x in data]\n",
    "print('Type of the data:', [type(x) for x in data])\n",
    "data"
   ]
  },
  {
   "cell_type": "markdown",
   "metadata": {
    "id": "OQlZB3AKNbdB"
   },
   "source": [
    "## Exercise\n",
    "\n",
    "1. Read the content of the file `iris.data`\n",
    "1. **Accumulate** the data and the labels in two different lists, named `dataset` and `labels`\n",
    "1. Cast all data to float\n",
    "1. Output the final length of the two lists.\n",
    "\n",
    "Given the input file with content\n",
    "\n",
    "    5.1,3.5,1.4,0.2,Iris-setosa\n",
    "    4.9,3.0,1.4,0.2,Iris-setosa\n",
    "    ...\n",
    "\n",
    "The lists should look like\n",
    "\n",
    "```python\n",
    "dataset = [[5.1,3.5,1.4,0.2], [4.9,3.0,1.4,0.2], ...]\n",
    "labels = ['Iris-setosa', 'Iris-setosa', ...]\n",
    "```"
   ]
  },
  {
   "cell_type": "code",
   "execution_count": null,
   "metadata": {
    "id": "W4tkbP8yITed"
   },
   "outputs": [],
   "source": [
    "# write the code here"
   ]
  }
 ],
 "metadata": {
  "colab": {
   "include_colab_link": true,
   "provenance": []
  },
  "kernelspec": {
   "display_name": "Python 3 (ipykernel)",
   "language": "python",
   "name": "python3"
  },
  "language_info": {
   "codemirror_mode": {
    "name": "ipython",
    "version": 3
   },
   "file_extension": ".py",
   "mimetype": "text/x-python",
   "name": "python",
   "nbconvert_exporter": "python",
   "pygments_lexer": "ipython3",
   "version": "3.11.9"
  }
 },
 "nbformat": 4,
 "nbformat_minor": 4
}
