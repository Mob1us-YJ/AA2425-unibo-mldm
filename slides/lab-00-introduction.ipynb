{
  "cells": [
    {
      "cell_type": "markdown",
      "metadata": {
        "id": "view-in-github",
        "colab_type": "text"
      },
      "source": [
        "<a href=\"https://colab.research.google.com/github/w4bo/AA2425-unibo-mldm/blob/master/slides/lab-00-introduction.ipynb\" target=\"_parent\"><img src=\"https://colab.research.google.com/assets/colab-badge.svg\" alt=\"Open In Colab\"/></a>"
      ]
    },
    {
      "cell_type": "markdown",
      "metadata": {
        "id": "VaTYWpBnXs-I"
      },
      "source": [
        "# Lab 00 - Introduction\n",
        "\n",
        "\n",
        "- **It is absolutely recommended to read the documentation relating to the functions and methods used!**\n",
        "- Usually, it is sufficient type on Google the name of the function (and eventually the name of the library used).\n",
        "\n"
      ]
    },
    {
      "cell_type": "markdown",
      "metadata": {
        "id": "Fdjrwg0N-36p"
      },
      "source": [
        "## Locating the data\n",
        "\n",
        "These are main options to use files/datasets in a Colab project:\n",
        "\n",
        "1. Use the existing data in the `/content/sample_data/` folder\n",
        "2. Upload a new dataset (as file)\n",
        "  - Upload the file through the Colab GUI (temporary upload!);\n",
        "  - Upload the file on your Google Drive (you have to use the same Google account that you use with Colab)). Then, it is necessary to mount the drive in your Colab machine (use the \"Mount Drive\" button.);\n",
        "  - Use the following code snippet, file are uploaded to `/content/<file_name>`\n",
        "3. Use existing datasets from the web\n"
      ]
    },
    {
      "cell_type": "markdown",
      "metadata": {
        "id": "TrFuawlDUo6a"
      },
      "source": [
        "## Read the existing data\n",
        "\n",
        "`open(<path>, <mode>)`: open the file located in the `path`, for reading, writing, ect. depending by the `mode`.\n"
      ]
    },
    {
      "cell_type": "code",
      "execution_count": 1,
      "metadata": {
        "colab": {
          "base_uri": "https://localhost:8080/"
        },
        "id": "Ox8U-ggRUP3C",
        "outputId": "806e8d4a-28ab-4cff-c309-3c362fa22073"
      },
      "outputs": [
        {
          "output_type": "stream",
          "name": "stdout",
          "text": [
            "Read 17001 lines\n"
          ]
        }
      ],
      "source": [
        "file_path = '/content/sample_data/california_housing_train.csv'\n",
        "with open(file_path, 'r') as f:\n",
        "    lines = f.readlines()\n",
        "print('Read {} lines'.format(len(lines)))"
      ]
    },
    {
      "cell_type": "markdown",
      "metadata": {
        "id": "M6KwinkPUuZF"
      },
      "source": [
        "## Upload new data"
      ]
    },
    {
      "cell_type": "code",
      "execution_count": 2,
      "metadata": {
        "id": "AozF-BXlGOTA"
      },
      "outputs": [],
      "source": [
        "from google.colab import files\n",
        "# uploaded = files.upload()  # uncomment this line to open the prompt to upload the dataset"
      ]
    },
    {
      "cell_type": "markdown",
      "metadata": {
        "id": "9ZznBC_0U7_6"
      },
      "source": [
        "## Import data from the web"
      ]
    },
    {
      "cell_type": "code",
      "execution_count": 3,
      "metadata": {
        "colab": {
          "base_uri": "https://localhost:8080/"
        },
        "id": "xhVXcbjdU_4N",
        "outputId": "c8f83e10-50a2-45f4-c5ab-677012e46033"
      },
      "outputs": [
        {
          "output_type": "stream",
          "name": "stdout",
          "text": [
            "rm: cannot remove 'iris.zip': No such file or directory\n",
            "--2024-08-28 09:22:12--  https://archive.ics.uci.edu/static/public/53/iris.zip\n",
            "Resolving archive.ics.uci.edu (archive.ics.uci.edu)... 128.195.10.252\n",
            "Connecting to archive.ics.uci.edu (archive.ics.uci.edu)|128.195.10.252|:443... connected.\n",
            "HTTP request sent, awaiting response... 200 OK\n",
            "Length: unspecified\n",
            "Saving to: ‘iris.zip’\n",
            "\n",
            "iris.zip                [ <=>                ]   3.65K  --.-KB/s    in 0s      \n",
            "\n",
            "2024-08-28 09:22:12 (493 MB/s) - ‘iris.zip’ saved [3738]\n",
            "\n",
            "Archive:  iris.zip\n",
            "  inflating: iris/Index              \n",
            "  inflating: iris/bezdekIris.data    \n",
            "  inflating: iris/iris.data          \n",
            "  inflating: iris/iris.names         \n",
            "Read 151 lines\n"
          ]
        }
      ],
      "source": [
        "# prompt: import the california housing pricedataset from kaggle into a pandas dataframe\n",
        "\n",
        "!rm -rf iris/ || true\n",
        "!rm iris.zip || true\n",
        "!wget https://archive.ics.uci.edu/static/public/53/iris.zip\n",
        "!unzip iris.zip -d iris\n",
        "\n",
        "file_path = '/content/iris/iris.data'\n",
        "with open(file_path, 'r') as f:\n",
        "    lines = f.readlines()\n",
        "print('Read {} lines'.format(len(lines)))"
      ]
    },
    {
      "cell_type": "markdown",
      "metadata": {
        "id": "fEIY4a3QWB8V"
      },
      "source": [
        "## Useful methods\n",
        "\n",
        "Tools for managing strings and lists:\n",
        "\n",
        "- `strip()`: removes both the leading and the trailing characters.\n",
        "- `split()`: breaks up a string at the specified separator and returns a list of strings.\n",
        "- List slicing: `list[start:stop:step]`\n",
        "\n",
        "Examples:\n",
        "\n",
        "*   `a[start:stop]  # items start through stop-1`\n",
        "*   `a[start:]      # items start through the rest of the array`\n",
        "*   `a[:stop]       # items from the beginning through stop-1`\n",
        "*   `a[:]           # a copy of the whole array`\n",
        "*   `a[-1]    # last item in the array`\n",
        "*   `a[-2:]   # last two items in the array`\n",
        "*   `a[:-2]   # everything except the last two items`\n",
        "*    `a[::-1]    # all items in the array, reversed`"
      ]
    },
    {
      "cell_type": "code",
      "execution_count": 4,
      "metadata": {
        "colab": {
          "base_uri": "https://localhost:8080/"
        },
        "id": "kriJZ4gdV5On",
        "outputId": "8b32d708-717a-463a-fb52-4225c28ef924"
      },
      "outputs": [
        {
          "output_type": "execute_result",
          "data": {
            "text/plain": [
              "['5.1,3.5,1.4,0.2,Iris-setosa\\n',\n",
              " '4.9,3.0,1.4,0.2,Iris-setosa\\n',\n",
              " '4.7,3.2,1.3,0.2,Iris-setosa\\n',\n",
              " '4.6,3.1,1.5,0.2,Iris-setosa\\n',\n",
              " '5.0,3.6,1.4,0.2,Iris-setosa\\n']"
            ]
          },
          "metadata": {},
          "execution_count": 4
        }
      ],
      "source": [
        "lines[:5]"
      ]
    },
    {
      "cell_type": "markdown",
      "metadata": {
        "id": "XIPnJ4icSjvK"
      },
      "source": [
        "## Iterating over the data"
      ]
    },
    {
      "cell_type": "code",
      "execution_count": 5,
      "metadata": {
        "colab": {
          "base_uri": "https://localhost:8080/"
        },
        "id": "AkjpEdlL7J7b",
        "outputId": "bf42c32e-9a1e-4403-8c2d-b86f2a69356c"
      },
      "outputs": [
        {
          "output_type": "stream",
          "name": "stdout",
          "text": [
            "Raw content: 5.1,3.5,1.4,0.2,Iris-setosa\n",
            "\n",
            "Content after strip: 5.1,3.5,1.4,0.2,Iris-setosa\n",
            "Content after split: ['5.1', '3.5', '1.4', '0.2', 'Iris-setosa']\n",
            "Data: ['5.1', '3.5', '1.4'] Label: Iris-setosa\n",
            "---\n",
            "Raw content: 4.9,3.0,1.4,0.2,Iris-setosa\n",
            "\n",
            "Content after strip: 4.9,3.0,1.4,0.2,Iris-setosa\n",
            "Content after split: ['4.9', '3.0', '1.4', '0.2', 'Iris-setosa']\n",
            "Data: ['4.9', '3.0', '1.4'] Label: Iris-setosa\n",
            "---\n"
          ]
        }
      ],
      "source": [
        "for line in lines[:2]:\n",
        "    print(\"Raw content:\", line)\n",
        "    content = line.strip()\n",
        "    print(\"Content after strip:\", content)\n",
        "    content = content.split(',')\n",
        "    print(\"Content after split:\", content)\n",
        "    # now the content is a list with the splitted elements\n",
        "    data = content[:-2]   # the image name is in the first position\n",
        "    label = content[-1] # coordinates in the following part\n",
        "    # print the content\n",
        "    print('Data:', data, 'Label:', label)\n",
        "    print('---')"
      ]
    },
    {
      "cell_type": "markdown",
      "metadata": {
        "id": "XRi9VA5U-OEC"
      },
      "source": [
        "## Data types\n",
        "\n",
        "Note that the element in the list are strings. We must convert these strings in integers (`int`). These integers are then saved in a list.\n",
        "\n",
        "**Tools**:\n",
        "\n",
        "- List comprehension: `[expression for item in list]`"
      ]
    },
    {
      "cell_type": "code",
      "execution_count": 6,
      "metadata": {
        "colab": {
          "base_uri": "https://localhost:8080/"
        },
        "id": "2w3TPSIP7Op7",
        "outputId": "9c4b5e0d-af62-4920-88d8-f48742cb794d"
      },
      "outputs": [
        {
          "output_type": "stream",
          "name": "stdout",
          "text": [
            "Type of the data: <class 'str'>\n",
            "Type of the data: [<class 'float'>, <class 'float'>, <class 'float'>]\n"
          ]
        },
        {
          "output_type": "execute_result",
          "data": {
            "text/plain": [
              "[4.9, 3.0, 1.4]"
            ]
          },
          "metadata": {},
          "execution_count": 6
        }
      ],
      "source": [
        "print('Type of the data:', type(data[0]))\n",
        "data = [float(x) for x in data]\n",
        "print('Type of the data:', [type(x) for x in data])\n",
        "data"
      ]
    },
    {
      "cell_type": "markdown",
      "metadata": {
        "id": "OQlZB3AKNbdB"
      },
      "source": [
        "## Exercise\n",
        "\n",
        "1. Read the content of the file `iris.data`\n",
        "1. **Accumulate** the data and the labels in two different lists, named `dataset` and `labels`\n",
        "1. Cast all data to float\n",
        "1. Output the final length of the two lists.\n",
        "\n",
        "Given the input file with content\n",
        "\n",
        "    5.1,3.5,1.4,0.2,Iris-setosa\n",
        "    4.9,3.0,1.4,0.2,Iris-setosa\n",
        "    ...\n",
        "\n",
        "The lists should look like\n",
        "\n",
        "```python\n",
        "dataset = [[5.1,3.5,1.4,0.2], [4.9,3.0,1.4,0.2], ...]\n",
        "labels = ['Iris-setosa', 'Iris-setosa', ...]\n",
        "```"
      ]
    },
    {
      "cell_type": "code",
      "execution_count": 7,
      "metadata": {
        "id": "W4tkbP8yITed"
      },
      "outputs": [],
      "source": [
        "# write the code here"
      ]
    }
  ],
  "metadata": {
    "colab": {
      "provenance": [],
      "include_colab_link": true
    },
    "kernelspec": {
      "display_name": "Python 3 (ipykernel)",
      "language": "python",
      "name": "python3"
    },
    "language_info": {
      "codemirror_mode": {
        "name": "ipython",
        "version": 3
      },
      "file_extension": ".py",
      "mimetype": "text/x-python",
      "name": "python",
      "nbconvert_exporter": "python",
      "pygments_lexer": "ipython3",
      "version": "3.11.9"
    }
  },
  "nbformat": 4,
  "nbformat_minor": 0
}